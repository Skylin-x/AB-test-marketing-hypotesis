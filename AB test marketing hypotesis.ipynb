{
 "cells": [
  {
   "cell_type": "markdown",
   "id": "11afc9f0",
   "metadata": {},
   "source": [
    "<b> <font size=\"6\">А/В тестирование гипотез отд. маркетинга</font>  </b>"
   ]
  },
  {
   "cell_type": "markdown",
   "id": "cbcee8fe",
   "metadata": {},
   "source": [
    "<b> <font size=\"4\">Задача проекта:\n",
    "\n",
    "* Приоритизация гипотез, выдвинутых аналитиком крупного интернет-магазина совместно с отделом маркетинга.\n",
    "    \n",
    "* Запуск A/B-тест и анализ его результатов.</font></b>"
   ]
  },
  {
   "cell_type": "markdown",
   "id": "271bdb18",
   "metadata": {},
   "source": [
    "\n",
    "# ОГЛАВЛЕНИЕ\n",
    "\n",
    "\n",
    "#  1. [Приоритизация гипотез:](#prior)\n",
    "## 1.1. [Приоритизация гипотез с помошью фреймворка ICE по убыванию приоритета.](#prior_ice)\n",
    "### 1.2. [Приоритизация гипотез с помошью фреймворка RICE по убыванию приоритета.](#prior_rice)\n",
    "## 1.3. [Анализ изменений в приоритизация гипотез при применении RICE вместо ICE.](#comparision)\n",
    "# 2. [Анализ A/B-теста:](#ab_analysis)\n",
    "\n",
    "## 2.1. [Построение графика кумулятивной выручки по группам.](#2.1.)\n",
    "### 2.1.1. [Выводы и предположения.](#2.1.1.)\n",
    "## 2.2. [Построение графика кумулятивного среднего чека по группам.](#2.2.)\n",
    "### 2.2.1. [Выводы и предположения.](#2.2.1.)\n",
    "## 2.3. [Построение графика относительного изменения кумулятивного среднего чека группы B к группе A.](#2.3.)\n",
    "### 2.3.1. [Выводы и предположения.](#2.3.1.)\n",
    "## 2.4. [Построение графика кумулятивной конверсии по группам.](#2.4.)\n",
    "### 2.4.1. [Выводы и предположения.](#2.4.1.)\n",
    "## 2.5. [Построение графика относительного изменения кумулятивной конверсии группы B к группе A.](#2.5.)\n",
    "### 2.5.1. [Выводы и предположения.](#2.5.1.)\n",
    "## 2.6. [Построение точечного графика количества заказов по пользователям.](#2.6.)\n",
    "### 2.6.1. [Выводы и предположения.](#2.6.1.)\n",
    "## 2.7. [Расчёт 95-й и 99-й перцентилей количества заказов на пользователя.](#2.7.)\n",
    "### 2.7.1. [Выбор границы для определения аномальных пользователей.](#2.7.1.)\n",
    "## 2.8. [Построение точечного графика стоимостей заказов.](#2.8.)\n",
    "### 2.8.1. [Выводы и предположения.](#2.8.1.)\n",
    "## 2.9. [Расчёт 95-й и 99-й перцентили стоимости заказов.](#2.9.)\n",
    "### 2.9.1. [Выбор границы для определения аномальных заказов.](#2.9.1.)\n",
    "## 2.10. [Расчёт статистической значимости различий в конверсии между группами по «сырым» данным.](#2.10.)\n",
    "### 2.10.1. [Выводы и предположения.](#2.10.1.)\n",
    "## 2.11. [Расчёт статистической значимости различий в среднем чеке заказа между группами по «сырым» данным.](#2.11.)\n",
    "### 2.11.1. [Выводы и предположения.](#2.11.1.)\n",
    "## 2.12. [Расчёт статистической значимости различий в конверсии между группами по «очищенным» данным.](#2.12.)\n",
    "### 2.12.1. [Выводы и предположения.](#2.12.1.)\n",
    "## 2.13. [Расчёт статистической значимости различий в среднем чеке заказа между группами по «очищенным» данным.](#2.13.)\n",
    "### 2.13.1. [Выводы и предположения.](#2.13.1.)\n",
    "## 2.14. [Принятие решения по результатам теста.](#2.14.)"
   ]
  },
  {
   "cell_type": "markdown",
   "id": "dcfed16c",
   "metadata": {},
   "source": [
    "<a class = \"anchor\" id = \"prior\"></a>\n",
    "## 1. Приоритизация гипотез:"
   ]
  },
  {
   "cell_type": "markdown",
   "id": "c5e7e277",
   "metadata": {},
   "source": [
    " <a class=\"anchor\" id=\"prior_ice\"></a>\n",
    "### 1.1. Приоритизация гипотез по фреймворку ICE по убыванию приоритета."
   ]
  },
  {
   "cell_type": "code",
   "execution_count": 1,
   "id": "0954ff32",
   "metadata": {},
   "outputs": [
    {
     "data": {
      "text/html": [
       "<div>\n",
       "<style scoped>\n",
       "    .dataframe tbody tr th:only-of-type {\n",
       "        vertical-align: middle;\n",
       "    }\n",
       "\n",
       "    .dataframe tbody tr th {\n",
       "        vertical-align: top;\n",
       "    }\n",
       "\n",
       "    .dataframe thead th {\n",
       "        text-align: right;\n",
       "    }\n",
       "</style>\n",
       "<table border=\"1\" class=\"dataframe\">\n",
       "  <thead>\n",
       "    <tr style=\"text-align: right;\">\n",
       "      <th></th>\n",
       "      <th>Hypothesis</th>\n",
       "      <th>Reach</th>\n",
       "      <th>Impact</th>\n",
       "      <th>Confidence</th>\n",
       "      <th>Efforts</th>\n",
       "    </tr>\n",
       "  </thead>\n",
       "  <tbody>\n",
       "    <tr>\n",
       "      <th>0</th>\n",
       "      <td>Добавить два новых канала привлечения трафика,...</td>\n",
       "      <td>3</td>\n",
       "      <td>10</td>\n",
       "      <td>8</td>\n",
       "      <td>6</td>\n",
       "    </tr>\n",
       "    <tr>\n",
       "      <th>1</th>\n",
       "      <td>Запустить собственную службу доставки, что сок...</td>\n",
       "      <td>2</td>\n",
       "      <td>5</td>\n",
       "      <td>4</td>\n",
       "      <td>10</td>\n",
       "    </tr>\n",
       "    <tr>\n",
       "      <th>2</th>\n",
       "      <td>Добавить блоки рекомендаций товаров на сайт ин...</td>\n",
       "      <td>8</td>\n",
       "      <td>3</td>\n",
       "      <td>7</td>\n",
       "      <td>3</td>\n",
       "    </tr>\n",
       "    <tr>\n",
       "      <th>3</th>\n",
       "      <td>Изменить структура категорий, что увеличит кон...</td>\n",
       "      <td>8</td>\n",
       "      <td>3</td>\n",
       "      <td>3</td>\n",
       "      <td>8</td>\n",
       "    </tr>\n",
       "    <tr>\n",
       "      <th>4</th>\n",
       "      <td>Изменить цвет фона главной страницы, чтобы уве...</td>\n",
       "      <td>3</td>\n",
       "      <td>1</td>\n",
       "      <td>1</td>\n",
       "      <td>1</td>\n",
       "    </tr>\n",
       "    <tr>\n",
       "      <th>5</th>\n",
       "      <td>Добавить страницу отзывов клиентов о магазине,...</td>\n",
       "      <td>3</td>\n",
       "      <td>2</td>\n",
       "      <td>2</td>\n",
       "      <td>3</td>\n",
       "    </tr>\n",
       "    <tr>\n",
       "      <th>6</th>\n",
       "      <td>Показать на главной странице баннеры с актуаль...</td>\n",
       "      <td>5</td>\n",
       "      <td>3</td>\n",
       "      <td>8</td>\n",
       "      <td>3</td>\n",
       "    </tr>\n",
       "    <tr>\n",
       "      <th>7</th>\n",
       "      <td>Добавить форму подписки на все основные страни...</td>\n",
       "      <td>10</td>\n",
       "      <td>7</td>\n",
       "      <td>8</td>\n",
       "      <td>5</td>\n",
       "    </tr>\n",
       "    <tr>\n",
       "      <th>8</th>\n",
       "      <td>Запустить акцию, дающую скидку на товар в день...</td>\n",
       "      <td>1</td>\n",
       "      <td>9</td>\n",
       "      <td>9</td>\n",
       "      <td>5</td>\n",
       "    </tr>\n",
       "  </tbody>\n",
       "</table>\n",
       "</div>"
      ],
      "text/plain": [
       "                                          Hypothesis  Reach  Impact  \\\n",
       "0  Добавить два новых канала привлечения трафика,...      3      10   \n",
       "1  Запустить собственную службу доставки, что сок...      2       5   \n",
       "2  Добавить блоки рекомендаций товаров на сайт ин...      8       3   \n",
       "3  Изменить структура категорий, что увеличит кон...      8       3   \n",
       "4  Изменить цвет фона главной страницы, чтобы уве...      3       1   \n",
       "5  Добавить страницу отзывов клиентов о магазине,...      3       2   \n",
       "6  Показать на главной странице баннеры с актуаль...      5       3   \n",
       "7  Добавить форму подписки на все основные страни...     10       7   \n",
       "8  Запустить акцию, дающую скидку на товар в день...      1       9   \n",
       "\n",
       "   Confidence  Efforts  \n",
       "0           8        6  \n",
       "1           4       10  \n",
       "2           7        3  \n",
       "3           3        8  \n",
       "4           1        1  \n",
       "5           2        3  \n",
       "6           8        3  \n",
       "7           8        5  \n",
       "8           9        5  "
      ]
     },
     "execution_count": 1,
     "metadata": {},
     "output_type": "execute_result"
    }
   ],
   "source": [
    "import pandas as pd\n",
    "import numpy as np\n",
    "from datetime import datetime as dt\n",
    "import matplotlib.pyplot as plt\n",
    "import math as mth\n",
    "from scipy import stats as st\n",
    "\n",
    "hyp = pd.read_csv(\"https://docs.google.com/spreadsheets/d/e/2PACX-1vQJIF7Fgz54ig5tcy6Rri2XfvUKCVelv1CyYq65O24YKJvzsFDU6jrAgJ4dj9alzY6OcpXCzKnLQdpY/pub?gid=153294110&single=true&output=csv\")\n",
    "hyp"
   ]
  },
  {
   "cell_type": "code",
   "execution_count": 2,
   "id": "e5c22fd0",
   "metadata": {},
   "outputs": [
    {
     "data": {
      "text/html": [
       "<div>\n",
       "<style scoped>\n",
       "    .dataframe tbody tr th:only-of-type {\n",
       "        vertical-align: middle;\n",
       "    }\n",
       "\n",
       "    .dataframe tbody tr th {\n",
       "        vertical-align: top;\n",
       "    }\n",
       "\n",
       "    .dataframe thead th {\n",
       "        text-align: right;\n",
       "    }\n",
       "</style>\n",
       "<table border=\"1\" class=\"dataframe\">\n",
       "  <thead>\n",
       "    <tr style=\"text-align: right;\">\n",
       "      <th></th>\n",
       "      <th>Hypothesis</th>\n",
       "      <th>Priority_ICE</th>\n",
       "      <th>rank_ICE</th>\n",
       "    </tr>\n",
       "  </thead>\n",
       "  <tbody>\n",
       "    <tr>\n",
       "      <th>8</th>\n",
       "      <td>Запустить акцию, дающую скидку на товар в день рождения</td>\n",
       "      <td>16.0</td>\n",
       "      <td>1.0</td>\n",
       "    </tr>\n",
       "    <tr>\n",
       "      <th>0</th>\n",
       "      <td>Добавить два новых канала привлечения трафика, что позволит привлекать на 30% больше пользователей</td>\n",
       "      <td>13.0</td>\n",
       "      <td>2.0</td>\n",
       "    </tr>\n",
       "    <tr>\n",
       "      <th>7</th>\n",
       "      <td>Добавить форму подписки на все основные страницы, чтобы собрать базу клиентов для email-рассылок</td>\n",
       "      <td>11.0</td>\n",
       "      <td>3.0</td>\n",
       "    </tr>\n",
       "    <tr>\n",
       "      <th>6</th>\n",
       "      <td>Показать на главной странице баннеры с актуальными акциями и распродажами, чтобы увеличить конверсию</td>\n",
       "      <td>8.0</td>\n",
       "      <td>4.0</td>\n",
       "    </tr>\n",
       "    <tr>\n",
       "      <th>2</th>\n",
       "      <td>Добавить блоки рекомендаций товаров на сайт интернет магазина, чтобы повысить конверсию и средний чек заказа</td>\n",
       "      <td>7.0</td>\n",
       "      <td>5.0</td>\n",
       "    </tr>\n",
       "    <tr>\n",
       "      <th>1</th>\n",
       "      <td>Запустить собственную службу доставки, что сократит срок доставки заказов</td>\n",
       "      <td>2.0</td>\n",
       "      <td>6.0</td>\n",
       "    </tr>\n",
       "    <tr>\n",
       "      <th>5</th>\n",
       "      <td>Добавить страницу отзывов клиентов о магазине, что позволит увеличить количество заказов</td>\n",
       "      <td>1.0</td>\n",
       "      <td>7.0</td>\n",
       "    </tr>\n",
       "    <tr>\n",
       "      <th>3</th>\n",
       "      <td>Изменить структура категорий, что увеличит конверсию, т.к. пользователи быстрее найдут нужный товар</td>\n",
       "      <td>1.0</td>\n",
       "      <td>8.0</td>\n",
       "    </tr>\n",
       "    <tr>\n",
       "      <th>4</th>\n",
       "      <td>Изменить цвет фона главной страницы, чтобы увеличить вовлеченность пользователей</td>\n",
       "      <td>1.0</td>\n",
       "      <td>9.0</td>\n",
       "    </tr>\n",
       "  </tbody>\n",
       "</table>\n",
       "</div>"
      ],
      "text/plain": [
       "                                                                                                     Hypothesis  \\\n",
       "8  Запустить акцию, дающую скидку на товар в день рождения                                                        \n",
       "0  Добавить два новых канала привлечения трафика, что позволит привлекать на 30% больше пользователей             \n",
       "7  Добавить форму подписки на все основные страницы, чтобы собрать базу клиентов для email-рассылок               \n",
       "6  Показать на главной странице баннеры с актуальными акциями и распродажами, чтобы увеличить конверсию           \n",
       "2  Добавить блоки рекомендаций товаров на сайт интернет магазина, чтобы повысить конверсию и средний чек заказа   \n",
       "1  Запустить собственную службу доставки, что сократит срок доставки заказов                                      \n",
       "5  Добавить страницу отзывов клиентов о магазине, что позволит увеличить количество заказов                       \n",
       "3  Изменить структура категорий, что увеличит конверсию, т.к. пользователи быстрее найдут нужный товар            \n",
       "4  Изменить цвет фона главной страницы, чтобы увеличить вовлеченность пользователей                               \n",
       "\n",
       "   Priority_ICE  rank_ICE  \n",
       "8  16.0          1.0       \n",
       "0  13.0          2.0       \n",
       "7  11.0          3.0       \n",
       "6  8.0           4.0       \n",
       "2  7.0           5.0       \n",
       "1  2.0           6.0       \n",
       "5  1.0           7.0       \n",
       "3  1.0           8.0       \n",
       "4  1.0           9.0       "
      ]
     },
     "metadata": {},
     "output_type": "display_data"
    }
   ],
   "source": [
    "hyp['Priority_ICE'] = hyp.Impact*hyp.Confidence/hyp.Efforts\n",
    "hyp['rank_ICE'] = hyp['Priority_ICE'].rank(ascending=False)\n",
    "pd.set_option('display.max_colwidth',0)\n",
    "display(hyp[['Hypothesis','Priority_ICE','rank_ICE']].sort_values(by = 'Priority_ICE', ascending = False).round())"
   ]
  },
  {
   "cell_type": "markdown",
   "id": "1a2a7af3",
   "metadata": {},
   "source": [
    "`pd.set_option('display.max_colwidth', 0)`"
   ]
  },
  {
   "cell_type": "markdown",
   "id": "be4dd406",
   "metadata": {},
   "source": [
    " <a class=\"anchor\" id=\"prior_rice\"></a>\n",
    "### 1.2. Приоритизация гипотез с помошью фреймворка RICE по убыванию приоритета."
   ]
  },
  {
   "cell_type": "code",
   "execution_count": 3,
   "id": "e2517a8b",
   "metadata": {},
   "outputs": [
    {
     "data": {
      "text/html": [
       "<div>\n",
       "<style scoped>\n",
       "    .dataframe tbody tr th:only-of-type {\n",
       "        vertical-align: middle;\n",
       "    }\n",
       "\n",
       "    .dataframe tbody tr th {\n",
       "        vertical-align: top;\n",
       "    }\n",
       "\n",
       "    .dataframe thead th {\n",
       "        text-align: right;\n",
       "    }\n",
       "</style>\n",
       "<table border=\"1\" class=\"dataframe\">\n",
       "  <thead>\n",
       "    <tr style=\"text-align: right;\">\n",
       "      <th></th>\n",
       "      <th>Hypothesis</th>\n",
       "      <th>Priority_RICE</th>\n",
       "      <th>rank_RICE</th>\n",
       "    </tr>\n",
       "  </thead>\n",
       "  <tbody>\n",
       "    <tr>\n",
       "      <th>7</th>\n",
       "      <td>Добавить форму подписки на все основные страницы, чтобы собрать базу клиентов для email-рассылок</td>\n",
       "      <td>112.0</td>\n",
       "      <td>1.0</td>\n",
       "    </tr>\n",
       "    <tr>\n",
       "      <th>2</th>\n",
       "      <td>Добавить блоки рекомендаций товаров на сайт интернет магазина, чтобы повысить конверсию и средний чек заказа</td>\n",
       "      <td>56.0</td>\n",
       "      <td>2.0</td>\n",
       "    </tr>\n",
       "    <tr>\n",
       "      <th>0</th>\n",
       "      <td>Добавить два новых канала привлечения трафика, что позволит привлекать на 30% больше пользователей</td>\n",
       "      <td>40.0</td>\n",
       "      <td>4.0</td>\n",
       "    </tr>\n",
       "    <tr>\n",
       "      <th>6</th>\n",
       "      <td>Показать на главной странице баннеры с актуальными акциями и распродажами, чтобы увеличить конверсию</td>\n",
       "      <td>40.0</td>\n",
       "      <td>4.0</td>\n",
       "    </tr>\n",
       "    <tr>\n",
       "      <th>8</th>\n",
       "      <td>Запустить акцию, дающую скидку на товар в день рождения</td>\n",
       "      <td>16.0</td>\n",
       "      <td>5.0</td>\n",
       "    </tr>\n",
       "    <tr>\n",
       "      <th>3</th>\n",
       "      <td>Изменить структура категорий, что увеличит конверсию, т.к. пользователи быстрее найдут нужный товар</td>\n",
       "      <td>9.0</td>\n",
       "      <td>6.0</td>\n",
       "    </tr>\n",
       "    <tr>\n",
       "      <th>1</th>\n",
       "      <td>Запустить собственную службу доставки, что сократит срок доставки заказов</td>\n",
       "      <td>4.0</td>\n",
       "      <td>8.0</td>\n",
       "    </tr>\n",
       "    <tr>\n",
       "      <th>5</th>\n",
       "      <td>Добавить страницу отзывов клиентов о магазине, что позволит увеличить количество заказов</td>\n",
       "      <td>4.0</td>\n",
       "      <td>8.0</td>\n",
       "    </tr>\n",
       "    <tr>\n",
       "      <th>4</th>\n",
       "      <td>Изменить цвет фона главной страницы, чтобы увеличить вовлеченность пользователей</td>\n",
       "      <td>3.0</td>\n",
       "      <td>9.0</td>\n",
       "    </tr>\n",
       "  </tbody>\n",
       "</table>\n",
       "</div>"
      ],
      "text/plain": [
       "                                                                                                     Hypothesis  \\\n",
       "7  Добавить форму подписки на все основные страницы, чтобы собрать базу клиентов для email-рассылок               \n",
       "2  Добавить блоки рекомендаций товаров на сайт интернет магазина, чтобы повысить конверсию и средний чек заказа   \n",
       "0  Добавить два новых канала привлечения трафика, что позволит привлекать на 30% больше пользователей             \n",
       "6  Показать на главной странице баннеры с актуальными акциями и распродажами, чтобы увеличить конверсию           \n",
       "8  Запустить акцию, дающую скидку на товар в день рождения                                                        \n",
       "3  Изменить структура категорий, что увеличит конверсию, т.к. пользователи быстрее найдут нужный товар            \n",
       "1  Запустить собственную службу доставки, что сократит срок доставки заказов                                      \n",
       "5  Добавить страницу отзывов клиентов о магазине, что позволит увеличить количество заказов                       \n",
       "4  Изменить цвет фона главной страницы, чтобы увеличить вовлеченность пользователей                               \n",
       "\n",
       "   Priority_RICE  rank_RICE  \n",
       "7  112.0          1.0        \n",
       "2  56.0           2.0        \n",
       "0  40.0           4.0        \n",
       "6  40.0           4.0        \n",
       "8  16.0           5.0        \n",
       "3  9.0            6.0        \n",
       "1  4.0            8.0        \n",
       "5  4.0            8.0        \n",
       "4  3.0            9.0        "
      ]
     },
     "metadata": {},
     "output_type": "display_data"
    }
   ],
   "source": [
    "hyp['Priority_RICE'] = hyp.Reach*hyp.Impact*hyp.Confidence/hyp.Efforts\n",
    "hyp['rank_RICE'] = hyp['Priority_RICE'].rank(ascending=False)\n",
    "display(hyp[['Hypothesis','Priority_RICE','rank_RICE']].sort_values(by = 'Priority_RICE', ascending = False).round())"
   ]
  },
  {
   "cell_type": "markdown",
   "id": "30077fd8",
   "metadata": {},
   "source": [
    "<a class = \"anchor\" id = \"comparision\"><a>\n",
    "### 1.3. Анализ изменений в приоритизация гипотез при применении RICE вместо ICE."
   ]
  },
  {
   "cell_type": "code",
   "execution_count": 4,
   "id": "eeef80db",
   "metadata": {},
   "outputs": [
    {
     "data": {
      "text/html": [
       "<div>\n",
       "<style scoped>\n",
       "    .dataframe tbody tr th:only-of-type {\n",
       "        vertical-align: middle;\n",
       "    }\n",
       "\n",
       "    .dataframe tbody tr th {\n",
       "        vertical-align: top;\n",
       "    }\n",
       "\n",
       "    .dataframe thead th {\n",
       "        text-align: right;\n",
       "    }\n",
       "</style>\n",
       "<table border=\"1\" class=\"dataframe\">\n",
       "  <thead>\n",
       "    <tr style=\"text-align: right;\">\n",
       "      <th></th>\n",
       "      <th>Hypothesis</th>\n",
       "      <th>rank_RICE</th>\n",
       "      <th>rank_ICE</th>\n",
       "    </tr>\n",
       "  </thead>\n",
       "  <tbody>\n",
       "    <tr>\n",
       "      <th>7</th>\n",
       "      <td>Добавить форму подписки на все основные страницы, чтобы собрать базу клиентов для email-рассылок</td>\n",
       "      <td>1.0</td>\n",
       "      <td>3.0</td>\n",
       "    </tr>\n",
       "    <tr>\n",
       "      <th>2</th>\n",
       "      <td>Добавить блоки рекомендаций товаров на сайт интернет магазина, чтобы повысить конверсию и средний чек заказа</td>\n",
       "      <td>2.0</td>\n",
       "      <td>5.0</td>\n",
       "    </tr>\n",
       "    <tr>\n",
       "      <th>0</th>\n",
       "      <td>Добавить два новых канала привлечения трафика, что позволит привлекать на 30% больше пользователей</td>\n",
       "      <td>4.0</td>\n",
       "      <td>2.0</td>\n",
       "    </tr>\n",
       "    <tr>\n",
       "      <th>6</th>\n",
       "      <td>Показать на главной странице баннеры с актуальными акциями и распродажами, чтобы увеличить конверсию</td>\n",
       "      <td>4.0</td>\n",
       "      <td>4.0</td>\n",
       "    </tr>\n",
       "    <tr>\n",
       "      <th>8</th>\n",
       "      <td>Запустить акцию, дающую скидку на товар в день рождения</td>\n",
       "      <td>5.0</td>\n",
       "      <td>1.0</td>\n",
       "    </tr>\n",
       "    <tr>\n",
       "      <th>3</th>\n",
       "      <td>Изменить структура категорий, что увеличит конверсию, т.к. пользователи быстрее найдут нужный товар</td>\n",
       "      <td>6.0</td>\n",
       "      <td>8.0</td>\n",
       "    </tr>\n",
       "    <tr>\n",
       "      <th>1</th>\n",
       "      <td>Запустить собственную службу доставки, что сократит срок доставки заказов</td>\n",
       "      <td>8.0</td>\n",
       "      <td>6.0</td>\n",
       "    </tr>\n",
       "    <tr>\n",
       "      <th>5</th>\n",
       "      <td>Добавить страницу отзывов клиентов о магазине, что позволит увеличить количество заказов</td>\n",
       "      <td>8.0</td>\n",
       "      <td>7.0</td>\n",
       "    </tr>\n",
       "    <tr>\n",
       "      <th>4</th>\n",
       "      <td>Изменить цвет фона главной страницы, чтобы увеличить вовлеченность пользователей</td>\n",
       "      <td>9.0</td>\n",
       "      <td>9.0</td>\n",
       "    </tr>\n",
       "  </tbody>\n",
       "</table>\n",
       "</div>"
      ],
      "text/plain": [
       "                                                                                                     Hypothesis  \\\n",
       "7  Добавить форму подписки на все основные страницы, чтобы собрать базу клиентов для email-рассылок               \n",
       "2  Добавить блоки рекомендаций товаров на сайт интернет магазина, чтобы повысить конверсию и средний чек заказа   \n",
       "0  Добавить два новых канала привлечения трафика, что позволит привлекать на 30% больше пользователей             \n",
       "6  Показать на главной странице баннеры с актуальными акциями и распродажами, чтобы увеличить конверсию           \n",
       "8  Запустить акцию, дающую скидку на товар в день рождения                                                        \n",
       "3  Изменить структура категорий, что увеличит конверсию, т.к. пользователи быстрее найдут нужный товар            \n",
       "1  Запустить собственную службу доставки, что сократит срок доставки заказов                                      \n",
       "5  Добавить страницу отзывов клиентов о магазине, что позволит увеличить количество заказов                       \n",
       "4  Изменить цвет фона главной страницы, чтобы увеличить вовлеченность пользователей                               \n",
       "\n",
       "   rank_RICE  rank_ICE  \n",
       "7  1.0        3.0       \n",
       "2  2.0        5.0       \n",
       "0  4.0        2.0       \n",
       "6  4.0        4.0       \n",
       "8  5.0        1.0       \n",
       "3  6.0        8.0       \n",
       "1  8.0        6.0       \n",
       "5  8.0        7.0       \n",
       "4  9.0        9.0       "
      ]
     },
     "metadata": {},
     "output_type": "display_data"
    }
   ],
   "source": [
    "display(hyp[['Hypothesis','rank_RICE','rank_ICE']].sort_values(by = 'rank_RICE', ascending = True).round())"
   ]
  },
  {
   "cell_type": "code",
   "execution_count": 5,
   "id": "f556b179",
   "metadata": {
    "scrolled": true
   },
   "outputs": [
    {
     "data": {
      "text/plain": [
       "'Гипотеза 8'"
      ]
     },
     "metadata": {},
     "output_type": "display_data"
    },
    {
     "data": {
      "text/plain": [
       "'Запустить акцию, дающую скидку на товар в день рождения'"
      ]
     },
     "metadata": {},
     "output_type": "display_data"
    }
   ],
   "source": [
    "display('Гипотеза 8',hyp.loc[8]['Hypothesis'])"
   ]
  },
  {
   "cell_type": "markdown",
   "id": "504f4664",
   "metadata": {},
   "source": [
    "Из-за учёта дополнительного параметра REACH предполагаемого охвата изменений гипотеза #8 опустилась с 1-го ранга в ICE на 5-й в RICE, т.к. охват для каждого пользователя составляет лишь 1 день (или неделя если +-3 дня) в году."
   ]
  },
  {
   "cell_type": "code",
   "execution_count": 6,
   "id": "9b3e5127",
   "metadata": {},
   "outputs": [
    {
     "data": {
      "text/plain": [
       "'Гипотеза 7'"
      ]
     },
     "metadata": {},
     "output_type": "display_data"
    },
    {
     "data": {
      "text/plain": [
       "'Добавить форму подписки на все основные страницы, чтобы собрать базу клиентов для email-рассылок'"
      ]
     },
     "metadata": {},
     "output_type": "display_data"
    },
    {
     "data": {
      "text/plain": [
       "'Гипотеза 2'"
      ]
     },
     "metadata": {},
     "output_type": "display_data"
    },
    {
     "data": {
      "text/plain": [
       "'Добавить блоки рекомендаций товаров на сайт интернет магазина, чтобы повысить конверсию и средний чек заказа'"
      ]
     },
     "metadata": {},
     "output_type": "display_data"
    }
   ],
   "source": [
    "display('Гипотеза 7',hyp.loc[7]['Hypothesis'])\n",
    "display('Гипотеза 2',hyp.loc[2]['Hypothesis'])"
   ]
  },
  {
   "cell_type": "markdown",
   "id": "463306ed",
   "metadata": {},
   "source": [
    "С другой стороны 7-я и 2-я гипотезы поднялись с 3 и 5 рангов на 1 и 2 соответстенно.\n",
    "Это произошло, т.к. изменения коснутся практически всех поситителей сайта.\n",
    "\n",
    "Т.о. важно учитывать масштаб охвата изменений при анализе приоритета гипотез для A/B тестирования. "
   ]
  },
  {
   "cell_type": "markdown",
   "id": "6322e473",
   "metadata": {},
   "source": [
    "<a class = \"anchor\" id = \"ab_analysis\"></a>\n",
    "## 2. Анализ A/B-теста"
   ]
  },
  {
   "cell_type": "markdown",
   "id": "fddaebc3",
   "metadata": {},
   "source": [
    "### Загрузка данных и проверка на дубликаты"
   ]
  },
  {
   "cell_type": "code",
   "execution_count": 7,
   "id": "b8afce15",
   "metadata": {},
   "outputs": [
    {
     "data": {
      "text/plain": [
       "'orders: '"
      ]
     },
     "metadata": {},
     "output_type": "display_data"
    },
    {
     "data": {
      "text/html": [
       "<div>\n",
       "<style scoped>\n",
       "    .dataframe tbody tr th:only-of-type {\n",
       "        vertical-align: middle;\n",
       "    }\n",
       "\n",
       "    .dataframe tbody tr th {\n",
       "        vertical-align: top;\n",
       "    }\n",
       "\n",
       "    .dataframe thead th {\n",
       "        text-align: right;\n",
       "    }\n",
       "</style>\n",
       "<table border=\"1\" class=\"dataframe\">\n",
       "  <thead>\n",
       "    <tr style=\"text-align: right;\">\n",
       "      <th></th>\n",
       "      <th>transactionId</th>\n",
       "      <th>visitorId</th>\n",
       "      <th>date</th>\n",
       "      <th>revenue</th>\n",
       "      <th>group</th>\n",
       "    </tr>\n",
       "  </thead>\n",
       "  <tbody>\n",
       "    <tr>\n",
       "      <th>0</th>\n",
       "      <td>3667963787</td>\n",
       "      <td>3312258926</td>\n",
       "      <td>2019-08-15</td>\n",
       "      <td>1650</td>\n",
       "      <td>B</td>\n",
       "    </tr>\n",
       "    <tr>\n",
       "      <th>1</th>\n",
       "      <td>2804400009</td>\n",
       "      <td>3642806036</td>\n",
       "      <td>2019-08-15</td>\n",
       "      <td>730</td>\n",
       "      <td>B</td>\n",
       "    </tr>\n",
       "    <tr>\n",
       "      <th>2</th>\n",
       "      <td>2961555356</td>\n",
       "      <td>4069496402</td>\n",
       "      <td>2019-08-15</td>\n",
       "      <td>400</td>\n",
       "      <td>A</td>\n",
       "    </tr>\n",
       "    <tr>\n",
       "      <th>3</th>\n",
       "      <td>3797467345</td>\n",
       "      <td>1196621759</td>\n",
       "      <td>2019-08-15</td>\n",
       "      <td>9759</td>\n",
       "      <td>B</td>\n",
       "    </tr>\n",
       "    <tr>\n",
       "      <th>4</th>\n",
       "      <td>2282983706</td>\n",
       "      <td>2322279887</td>\n",
       "      <td>2019-08-15</td>\n",
       "      <td>2308</td>\n",
       "      <td>B</td>\n",
       "    </tr>\n",
       "  </tbody>\n",
       "</table>\n",
       "</div>"
      ],
      "text/plain": [
       "   transactionId   visitorId        date  revenue group\n",
       "0  3667963787     3312258926  2019-08-15  1650     B   \n",
       "1  2804400009     3642806036  2019-08-15  730      B   \n",
       "2  2961555356     4069496402  2019-08-15  400      A   \n",
       "3  3797467345     1196621759  2019-08-15  9759     B   \n",
       "4  2282983706     2322279887  2019-08-15  2308     B   "
      ]
     },
     "metadata": {},
     "output_type": "display_data"
    },
    {
     "name": "stdout",
     "output_type": "stream",
     "text": [
      "<class 'pandas.core.frame.DataFrame'>\n",
      "RangeIndex: 1197 entries, 0 to 1196\n",
      "Data columns (total 5 columns):\n",
      " #   Column         Non-Null Count  Dtype \n",
      "---  ------         --------------  ----- \n",
      " 0   transactionId  1197 non-null   int64 \n",
      " 1   visitorId      1197 non-null   int64 \n",
      " 2   date           1197 non-null   object\n",
      " 3   revenue        1197 non-null   int64 \n",
      " 4   group          1197 non-null   object\n",
      "dtypes: int64(3), object(2)\n",
      "memory usage: 46.9+ KB\n",
      "None\n"
     ]
    },
    {
     "data": {
      "text/plain": [
       "'Дубликатов в orders: '"
      ]
     },
     "metadata": {},
     "output_type": "display_data"
    },
    {
     "data": {
      "text/plain": [
       "0"
      ]
     },
     "metadata": {},
     "output_type": "display_data"
    },
    {
     "data": {
      "text/plain": [
       "'visitors: '"
      ]
     },
     "metadata": {},
     "output_type": "display_data"
    },
    {
     "data": {
      "text/html": [
       "<div>\n",
       "<style scoped>\n",
       "    .dataframe tbody tr th:only-of-type {\n",
       "        vertical-align: middle;\n",
       "    }\n",
       "\n",
       "    .dataframe tbody tr th {\n",
       "        vertical-align: top;\n",
       "    }\n",
       "\n",
       "    .dataframe thead th {\n",
       "        text-align: right;\n",
       "    }\n",
       "</style>\n",
       "<table border=\"1\" class=\"dataframe\">\n",
       "  <thead>\n",
       "    <tr style=\"text-align: right;\">\n",
       "      <th></th>\n",
       "      <th>date</th>\n",
       "      <th>group</th>\n",
       "      <th>visitors</th>\n",
       "    </tr>\n",
       "  </thead>\n",
       "  <tbody>\n",
       "    <tr>\n",
       "      <th>0</th>\n",
       "      <td>2019-08-01</td>\n",
       "      <td>A</td>\n",
       "      <td>719</td>\n",
       "    </tr>\n",
       "    <tr>\n",
       "      <th>1</th>\n",
       "      <td>2019-08-02</td>\n",
       "      <td>A</td>\n",
       "      <td>619</td>\n",
       "    </tr>\n",
       "    <tr>\n",
       "      <th>2</th>\n",
       "      <td>2019-08-03</td>\n",
       "      <td>A</td>\n",
       "      <td>507</td>\n",
       "    </tr>\n",
       "    <tr>\n",
       "      <th>3</th>\n",
       "      <td>2019-08-04</td>\n",
       "      <td>A</td>\n",
       "      <td>717</td>\n",
       "    </tr>\n",
       "    <tr>\n",
       "      <th>4</th>\n",
       "      <td>2019-08-05</td>\n",
       "      <td>A</td>\n",
       "      <td>756</td>\n",
       "    </tr>\n",
       "  </tbody>\n",
       "</table>\n",
       "</div>"
      ],
      "text/plain": [
       "         date group  visitors\n",
       "0  2019-08-01  A     719     \n",
       "1  2019-08-02  A     619     \n",
       "2  2019-08-03  A     507     \n",
       "3  2019-08-04  A     717     \n",
       "4  2019-08-05  A     756     "
      ]
     },
     "metadata": {},
     "output_type": "display_data"
    },
    {
     "name": "stdout",
     "output_type": "stream",
     "text": [
      "<class 'pandas.core.frame.DataFrame'>\n",
      "RangeIndex: 62 entries, 0 to 61\n",
      "Data columns (total 3 columns):\n",
      " #   Column    Non-Null Count  Dtype \n",
      "---  ------    --------------  ----- \n",
      " 0   date      62 non-null     object\n",
      " 1   group     62 non-null     object\n",
      " 2   visitors  62 non-null     int64 \n",
      "dtypes: int64(1), object(2)\n",
      "memory usage: 1.6+ KB\n",
      "None\n"
     ]
    },
    {
     "data": {
      "text/plain": [
       "'Дубликатов в visitors: '"
      ]
     },
     "metadata": {},
     "output_type": "display_data"
    },
    {
     "data": {
      "text/plain": [
       "0"
      ]
     },
     "metadata": {},
     "output_type": "display_data"
    }
   ],
   "source": [
    "orders = pd.read_csv('https://docs.google.com/spreadsheets/d/e/2PACX-1vTaONXG36RWJl6-9p6hJEkg00hTgg-C0j0icYvQ0eq3n95cRM2oNEG2BuRZiY0c6PHq4zUAHhFRFb5b/pub?gid=728664543&single=true&output=csv')\n",
    "visitors = pd.read_csv('https://docs.google.com/spreadsheets/d/e/2PACX-1vTbuHmCWnsqenCO-vX9fgfR0ZlotPaLKbCzWYKs_x_5RE0vEMyuTxoaNEkNJai8oVqGQCo2mJCmRpu_/pub?gid=198389916&single=true&output=csv')\n",
    "\n",
    "display('orders: ',orders.head(5))\n",
    "print(orders.info())\n",
    "orders['date'] = orders['date'].apply(lambda x: dt.strptime(x, '%Y-%m-%d'))\n",
    "display('Дубликатов в orders: ', orders.duplicated().sum())\n",
    "\n",
    "display('visitors: ', visitors.head(5))\n",
    "print(visitors.info())\n",
    "visitors['date'] = visitors['date'].apply(lambda x: dt.strptime(x, '%Y-%m-%d'))\n",
    "display('Дубликатов в visitors: ', visitors.duplicated().sum())"
   ]
  },
  {
   "cell_type": "code",
   "execution_count": 8,
   "id": "07ba8bc9",
   "metadata": {},
   "outputs": [
    {
     "name": "stdout",
     "output_type": "stream",
     "text": [
      "Уникальных позьзователей в orders: 1031\n",
      "Общее число заказов: 1197\n",
      "\n",
      "Пользователей в группе A: 503\n",
      "Заказов пользователей группы A: 557\n",
      "\n",
      "Пользователей в группе B: 586\n",
      "Заказов пользователей группы B: 640\n",
      "\n",
      "Пересечение заказов пользователей в группах: \n",
      " 89 заказов присутствуют в группах А и В. \n",
      "Число пользователей с заказами, попавшими в обе группы: 58\n",
      "\n",
      "Заказов пересекающихся пользователей в группах: \n",
      " 89, что составляет 7.44% всех заказов\n",
      "Сумма заказов пересекающихся пользователей в группах: \n",
      " 1558935, что составляет 15.60% всех заказов\n"
     ]
    },
    {
     "data": {
      "text/html": [
       "<div>\n",
       "<style scoped>\n",
       "    .dataframe tbody tr th:only-of-type {\n",
       "        vertical-align: middle;\n",
       "    }\n",
       "\n",
       "    .dataframe tbody tr th {\n",
       "        vertical-align: top;\n",
       "    }\n",
       "\n",
       "    .dataframe thead th {\n",
       "        text-align: right;\n",
       "    }\n",
       "</style>\n",
       "<table border=\"1\" class=\"dataframe\">\n",
       "  <thead>\n",
       "    <tr style=\"text-align: right;\">\n",
       "      <th></th>\n",
       "      <th>transactionId</th>\n",
       "      <th>visitorId</th>\n",
       "      <th>date</th>\n",
       "      <th>revenue</th>\n",
       "      <th>group</th>\n",
       "    </tr>\n",
       "  </thead>\n",
       "  <tbody>\n",
       "    <tr>\n",
       "      <th>703</th>\n",
       "      <td>4293855558</td>\n",
       "      <td>8300375</td>\n",
       "      <td>2019-08-07</td>\n",
       "      <td>1790</td>\n",
       "      <td>A</td>\n",
       "    </tr>\n",
       "    <tr>\n",
       "      <th>71</th>\n",
       "      <td>3679129301</td>\n",
       "      <td>8300375</td>\n",
       "      <td>2019-08-01</td>\n",
       "      <td>10510</td>\n",
       "      <td>B</td>\n",
       "    </tr>\n",
       "    <tr>\n",
       "      <th>823</th>\n",
       "      <td>2971973105</td>\n",
       "      <td>199603092</td>\n",
       "      <td>2019-08-27</td>\n",
       "      <td>2790</td>\n",
       "      <td>A</td>\n",
       "    </tr>\n",
       "    <tr>\n",
       "      <th>246</th>\n",
       "      <td>437656952</td>\n",
       "      <td>199603092</td>\n",
       "      <td>2019-08-02</td>\n",
       "      <td>3488</td>\n",
       "      <td>B</td>\n",
       "    </tr>\n",
       "    <tr>\n",
       "      <th>26</th>\n",
       "      <td>2223239646</td>\n",
       "      <td>199603092</td>\n",
       "      <td>2019-08-15</td>\n",
       "      <td>3488</td>\n",
       "      <td>A</td>\n",
       "    </tr>\n",
       "    <tr>\n",
       "      <th>...</th>\n",
       "      <td>...</td>\n",
       "      <td>...</td>\n",
       "      <td>...</td>\n",
       "      <td>...</td>\n",
       "      <td>...</td>\n",
       "    </tr>\n",
       "    <tr>\n",
       "      <th>187</th>\n",
       "      <td>2048878902</td>\n",
       "      <td>4256040402</td>\n",
       "      <td>2019-08-17</td>\n",
       "      <td>1550</td>\n",
       "      <td>A</td>\n",
       "    </tr>\n",
       "    <tr>\n",
       "      <th>114</th>\n",
       "      <td>1120327437</td>\n",
       "      <td>4256040402</td>\n",
       "      <td>2019-08-01</td>\n",
       "      <td>5800</td>\n",
       "      <td>A</td>\n",
       "    </tr>\n",
       "    <tr>\n",
       "      <th>60</th>\n",
       "      <td>1421016313</td>\n",
       "      <td>4256040402</td>\n",
       "      <td>2019-08-16</td>\n",
       "      <td>56650</td>\n",
       "      <td>B</td>\n",
       "    </tr>\n",
       "    <tr>\n",
       "      <th>662</th>\n",
       "      <td>1811671147</td>\n",
       "      <td>4266935830</td>\n",
       "      <td>2019-08-29</td>\n",
       "      <td>78990</td>\n",
       "      <td>A</td>\n",
       "    </tr>\n",
       "    <tr>\n",
       "      <th>682</th>\n",
       "      <td>1216533772</td>\n",
       "      <td>4266935830</td>\n",
       "      <td>2019-08-29</td>\n",
       "      <td>78990</td>\n",
       "      <td>B</td>\n",
       "    </tr>\n",
       "  </tbody>\n",
       "</table>\n",
       "<p>181 rows × 5 columns</p>\n",
       "</div>"
      ],
      "text/plain": [
       "     transactionId   visitorId       date  revenue group\n",
       "703  4293855558     8300375    2019-08-07  1790     A   \n",
       "71   3679129301     8300375    2019-08-01  10510    B   \n",
       "823  2971973105     199603092  2019-08-27  2790     A   \n",
       "246  437656952      199603092  2019-08-02  3488     B   \n",
       "26   2223239646     199603092  2019-08-15  3488     A   \n",
       "..          ...           ...         ...   ...    ..   \n",
       "187  2048878902     4256040402 2019-08-17  1550     A   \n",
       "114  1120327437     4256040402 2019-08-01  5800     A   \n",
       "60   1421016313     4256040402 2019-08-16  56650    B   \n",
       "662  1811671147     4266935830 2019-08-29  78990    A   \n",
       "682  1216533772     4266935830 2019-08-29  78990    B   \n",
       "\n",
       "[181 rows x 5 columns]"
      ]
     },
     "execution_count": 8,
     "metadata": {},
     "output_type": "execute_result"
    }
   ],
   "source": [
    "print(f\"Уникальных позьзователей в orders: {orders['visitorId'].nunique()}\")\n",
    "print(f\"Общее число заказов: {orders['transactionId'].nunique()}\")\n",
    "print()\n",
    "usersA = orders[orders['group'] == 'A']\n",
    "usersB = orders[orders['group'] == 'B']\n",
    "\n",
    "print(f\"Пользователей в группе A: {usersA['visitorId'].nunique()}\")\n",
    "print(f\"Заказов пользователей группы A: {usersA['transactionId'].nunique()}\")\n",
    "print()\n",
    "print(f\"Пользователей в группе B: {usersB['visitorId'].nunique()}\")\n",
    "print(f\"Заказов пользователей группы B: {usersB['transactionId'].nunique()}\")\n",
    "print()\n",
    "print(f\"Пересечение заказов пользователей в группах: \\n {usersA['visitorId'].isin(usersB['visitorId']).sum()} заказов присутствуют в группах А и В. \")\n",
    "usersA_B = usersA[usersA['visitorId'].isin(usersB['visitorId'])]['visitorId']\n",
    "print(f\"Число пользователей с заказами, попавшими в обе группы: {orders[orders['visitorId'].isin(usersA_B)]['visitorId'].nunique()}\")\n",
    "print()\n",
    "print(f\"Заказов пересекающихся пользователей в группах: \\n {usersA['visitorId'].isin(usersB['visitorId']).sum()}, что составляет {usersA['visitorId'].isin(usersB['visitorId']).sum()/orders['transactionId'].nunique():.2%} всех заказов\")\n",
    "print(f\"Сумма заказов пересекающихся пользователей в группах: \\n {orders[orders['visitorId'].isin(usersA_B)]['revenue'].sum()}, что составляет {orders[orders['visitorId'].isin(usersA_B)]['revenue'].sum()/orders['revenue'].sum():.2%} всех заказов\")\n",
    "\n",
    "orders_clear = orders[~(orders['visitorId'].isin(usersA_B))]\n",
    "\n",
    "orders[orders['visitorId'].isin(usersA_B)].sort_values('visitorId')"
   ]
  },
  {
   "cell_type": "code",
   "execution_count": 9,
   "id": "f19cbbc6",
   "metadata": {
    "scrolled": true
   },
   "outputs": [
    {
     "name": "stdout",
     "output_type": "stream",
     "text": [
      "Данные по очищенныму датафрейму:\n",
      "Уникальных позьзователей в orders: 973\n",
      "Общее число заказов: 1016\n",
      "\n",
      "Пользователей в группе A: 445\n",
      "Заказов пользователей группы A: 468\n",
      "\n",
      "Пользователей в группе B: 528\n",
      "Заказов пользователей группы B: 548\n",
      "\n",
      "Пересечение пользователей в группах: \n",
      " 0 visitorId присутствуют в группах А и В. \n"
     ]
    }
   ],
   "source": [
    "print('Данные по очищенныму датафрейму:')\n",
    "print(f\"Уникальных позьзователей в orders: {orders_clear['visitorId'].nunique()}\")\n",
    "print(f\"Общее число заказов: {orders_clear['transactionId'].nunique()}\")\n",
    "print()\n",
    "usersA_clear = orders_clear[orders_clear['group'] == 'A']\n",
    "usersB_clear = orders_clear[orders_clear['group'] == 'B']\n",
    "\n",
    "print(f\"Пользователей в группе A: {usersA_clear['visitorId'].nunique()}\")\n",
    "print(f\"Заказов пользователей группы A: {usersA_clear['transactionId'].nunique()}\")\n",
    "print()\n",
    "print(f\"Пользователей в группе B: {usersB_clear['visitorId'].nunique()}\")\n",
    "print(f\"Заказов пользователей группы B: {usersB_clear['transactionId'].nunique()}\")\n",
    "print()\n",
    "print(f\"Пересечение пользователей в группах: \\n {usersA_clear['visitorId'].isin(usersB_clear['visitorId']).sum()} visitorId присутствуют в группах А и В. \")"
   ]
  },
  {
   "cell_type": "markdown",
   "id": "90aa723e",
   "metadata": {},
   "source": [
    "Анализ данных основанных на пересечении в заказах групп А и В будет некорректным.\n",
    "Поэтому данные о заказах пользователей, чьи заказы попали в обе группы, удалены.\n",
    "Однако теперь лучше было бы отфильтровать данные о посетителях и не учитывать посещения от этих пользователей.\n",
    "В противном случае данные по конверсии будут несколько занижены."
   ]
  },
  {
   "cell_type": "markdown",
   "id": "ff2c8297",
   "metadata": {},
   "source": [
    "<a class = \"anchor\" id = \"2.1.\"></a>\n",
    "## 2.1. Построение графика кумулятивной выручки по группам."
   ]
  },
  {
   "cell_type": "markdown",
   "id": "b60b28d2",
   "metadata": {},
   "source": [
    "Группировка выручки, количества пользователей и заказов разных групп по датам"
   ]
  },
  {
   "cell_type": "code",
   "execution_count": 10,
   "id": "a3a7872e",
   "metadata": {},
   "outputs": [
    {
     "name": "stdout",
     "output_type": "stream",
     "text": [
      "        date group  revenueByDateA  ordersByDateA\n",
      "0 2019-08-01  A     142779          23           \n",
      "1 2019-08-02  A     91602           19           \n",
      "2 2019-08-03  A     112473          24           \n",
      "3 2019-08-04  A     41176           11           \n",
      "4 2019-08-05  A     86383           22           \n",
      "        date group  revenueByDateB  ordersByDateB\n",
      "0 2019-08-01  B     59758           17           \n",
      "1 2019-08-02  B     162043          23           \n",
      "2 2019-08-03  B     67049           14           \n",
      "3 2019-08-04  B     96890           14           \n",
      "4 2019-08-05  B     89908           21           \n"
     ]
    }
   ],
   "source": [
    "ordersByDateA = orders_clear[orders_clear['group'] == \"A\"].groupby(['date'],as_index = False).agg({'date':'max', 'group':'max','revenue':'sum','transactionId':pd.Series.nunique})\n",
    "ordersByDateA.columns = ['date', 'group','revenueByDateA','ordersByDateA']\n",
    "\n",
    "ordersByDateB = orders_clear[orders_clear['group'] == \"B\"].groupby(['date'],as_index = False).agg({'date':'max', 'group':'max','revenue':'sum','transactionId':pd.Series.nunique})\n",
    "ordersByDateB.columns = ['date', 'group','revenueByDateB','ordersByDateB']\n",
    "\n",
    "print(ordersByDateA.head())\n",
    "print(ordersByDateB.head())"
   ]
  },
  {
   "cell_type": "markdown",
   "id": "808dfc94",
   "metadata": {},
   "source": [
    "### Создание датафреймов с кумулятивными данными"
   ]
  },
  {
   "cell_type": "code",
   "execution_count": 11,
   "id": "c4bb42ce",
   "metadata": {
    "scrolled": true
   },
   "outputs": [
    {
     "name": "stdout",
     "output_type": "stream",
     "text": [
      "         date  ordersByDateA  revenueByDateA  ordersByDateB  revenueByDateB\n",
      "0  2019-08-01  23             142779          17             59758         \n",
      "1  2019-08-02  42             234381          40             221801        \n",
      "2  2019-08-03  66             346854          54             288850        \n",
      "3  2019-08-04  77             388030          68             385740        \n",
      "4  2019-08-05  99             474413          89             475648        \n",
      "5  2019-08-06  114            515332          112            690490        \n",
      "6  2019-08-07  130            638580          135            909654        \n",
      "7  2019-08-08  144            727219          157            1059795       \n",
      "8  2019-08-09  155            861456          176            1162961       \n",
      "9  2019-08-10  170            1013731         198            1268123       \n",
      "10 2019-08-11  181            1074396         210            1321183       \n",
      "11 2019-08-12  200            1294788         229            1425237       \n",
      "12 2019-08-13  214            1558426         249            1542928       \n",
      "13 2019-08-14  231            1601692         263            1650268       \n",
      "14 2019-08-15  241            1682569         289            1960427       \n",
      "15 2019-08-16  259            1782420         307            2074677       \n",
      "16 2019-08-17  265            1817160         320            2155542       \n",
      "17 2019-08-18  278            1876741         327            2190865       \n",
      "18 2019-08-19  299            2044934         348            3620785       \n",
      "19 2019-08-20  309            2103613         368            3768059       \n",
      "20 2019-08-21  329            2273782         380            3908406       \n",
      "21 2019-08-22  339            2366147         401            4050134       \n",
      "22 2019-08-23  359            2424010         414            4127403       \n",
      "23 2019-08-24  372            2546023         428            4215269       \n",
      "24 2019-08-25  380            2597907         440            4294526       \n",
      "25 2019-08-26  396            2755121         462            4467965       \n",
      "26 2019-08-27  419            2940471         473            4579312       \n",
      "27 2019-08-28  434            3036933         495            4640510       \n",
      "28 2019-08-29  451            3233233         510            4746610       \n",
      "29 2019-08-30  460            3311413         531            4955833       \n",
      "30 2019-08-31  468            3364656         548            5068972       \n"
     ]
    }
   ],
   "source": [
    "ordersCumulativeA = ordersByDateA.apply(lambda x: ordersByDateA[ordersByDateA['date']<=x['date']].agg({'date':'max','ordersByDateA':'sum','revenueByDateA':'sum'}),axis=1).sort_values(by = 'date')\n",
    "ordersCumulativeB = ordersByDateB.apply(lambda x: ordersByDateB[ordersByDateB['date']<=x['date']].agg({'date':'max','ordersByDateB':'sum','revenueByDateB':'sum'}),axis=1).sort_values(by = 'date')\n",
    "\n",
    "data_cumul = ordersCumulativeA.merge(ordersCumulativeB, on = 'date')\n",
    "\n",
    "print(data_cumul)"
   ]
  },
  {
   "cell_type": "code",
   "execution_count": 12,
   "id": "4d2bab22",
   "metadata": {},
   "outputs": [
    {
     "data": {
      "image/png": "[encoded data removed]",
      "text/plain": [
       "<Figure size 1440x504 with 1 Axes>"
      ]
     },
     "metadata": {
      "needs_background": "light"
     },
     "output_type": "display_data"
    }
   ],
   "source": [
    "plt.figure(figsize=(20,7))\n",
    "plt.plot(data_cumul['date'],data_cumul['revenueByDateA'], label = 'revenue A')\n",
    "plt.plot(data_cumul['date'],data_cumul['revenueByDateB'], label = 'revenue B')\n",
    "plt.xticks(rotation = 45)\n",
    "plt.title('График кумулятивной выручки по группам', size = 16, color = 'r')\n",
    "plt.xlabel('Дата',size = 16)\n",
    "plt.ylabel('Кумулятивная выручка',size = 16)\n",
    "plt.legend(prop={'size': 16})\n",
    "plt.grid()\n",
    "plt.show()"
   ]
  },
  {
   "cell_type": "markdown",
   "id": "c3d4d7e5",
   "metadata": {},
   "source": [
    " <a class=\"anchor\" id=\"2.1.1.\"></a>\n",
    "### 2.1.1. Выводы и предположения."
   ]
  },
  {
   "cell_type": "markdown",
   "id": "897beee9",
   "metadata": {},
   "source": [
    "Судя по графику, в группе И 18.08 произошла разовая крупная покупка из-за чего REVENUE группы B стало значительно выше, чем A."
   ]
  },
  {
   "cell_type": "markdown",
   "id": "84275f44",
   "metadata": {},
   "source": [
    " <a class=\"anchor\" id=\"2.2.\"></a>\n",
    "### 2.2. Построение графика кумулятивного среднего чека по группам."
   ]
  },
  {
   "cell_type": "code",
   "execution_count": 13,
   "id": "81efba4e",
   "metadata": {},
   "outputs": [],
   "source": [
    "data_cumul['checkCumulativeA'] = data_cumul['revenueByDateA'] / data_cumul['ordersByDateA']\n",
    "data_cumul['checkCumulativeB'] = data_cumul['revenueByDateB'] / data_cumul['ordersByDateB']"
   ]
  },
  {
   "cell_type": "code",
   "execution_count": 14,
   "id": "264fa4c6",
   "metadata": {},
   "outputs": [
    {
     "data": {
      "image/png": "[encoded data removed]",
      "text/plain": [
       "<Figure size 1440x504 with 1 Axes>"
      ]
     },
     "metadata": {
      "needs_background": "light"
     },
     "output_type": "display_data"
    }
   ],
   "source": [
    "plt.figure(figsize=(20,7))\n",
    "plt.plot(data_cumul['date'],data_cumul['checkCumulativeA'], label = 'кумулятивный средний чек по группе A')\n",
    "plt.plot(data_cumul['date'],data_cumul['checkCumulativeB'], label = 'кумулятивный средний чек по группе B')\n",
    "plt.xticks(rotation = 45)\n",
    "\n",
    "plt.title('График кумулятивного среднего чека по группам', size = 16, color = 'r')\n",
    "plt.xlabel('Дата',size = 16)\n",
    "plt.ylabel('Кумулятивная сумма среднего чека',size = 16)\n",
    "\n",
    "plt.legend(prop={'size': 16})\n",
    "plt.grid()\n",
    "plt.show()"
   ]
  },
  {
   "cell_type": "markdown",
   "id": "f73b8270",
   "metadata": {},
   "source": [
    " <a class=\"anchor\" id=\"2.2.1.\"></a>\n",
    "### 2.2.1. Выводы и предположения."
   ]
  },
  {
   "cell_type": "markdown",
   "id": "ad9d94b6",
   "metadata": {},
   "source": [
    "Средний чек в группах выравнивается возле примерно равных значений к 18.08. После этого наблюдается резкий скачок в группе B и дальнейшее снижение среднего чека в группе B и небольшое увеличение значения в группе A.\n",
    "Это говорит о разовом увеличении среднего чека в группе B и дальнейшем выравнивании показателей к единому значению."
   ]
  },
  {
   "cell_type": "markdown",
   "id": "140038ed",
   "metadata": {},
   "source": [
    "<a class=\"anchor\" id=\"2.3.\"></a>\n",
    "### 2.3. График относительного изменения кумулятивного среднего чека группы B к группе A."
   ]
  },
  {
   "cell_type": "code",
   "execution_count": 15,
   "id": "899bc8cd",
   "metadata": {},
   "outputs": [
    {
     "data": {
      "image/png": "[encoded data removed]",
      "text/plain": [
       "<Figure size 1440x504 with 1 Axes>"
      ]
     },
     "metadata": {
      "needs_background": "light"
     },
     "output_type": "display_data"
    }
   ],
   "source": [
    "plt.figure(figsize=(20,7))\n",
    "plt.plot(data_cumul['date'],data_cumul['checkCumulativeB']/data_cumul['checkCumulativeA'])\n",
    "plt.xticks(rotation = 45)\n",
    "\n",
    "plt.title('Относительное изменение кумулятивного среднего чека группы B к группе A', size = 16, color = 'r')\n",
    "plt.xlabel('Дата',size = 16)\n",
    "\n",
    "plt.axhline(1, linestyle =\"--\", color = 'r')\n",
    "plt.grid()\n",
    "plt.show()"
   ]
  },
  {
   "cell_type": "markdown",
   "id": "fc162881",
   "metadata": {},
   "source": [
    " <a class=\"anchor\" id=\"2.3.1.\"></a>\n",
    "#### 2.3.1. Выводы и предположения."
   ]
  },
  {
   "cell_type": "markdown",
   "id": "73218f86",
   "metadata": {},
   "source": [
    "Отношение кумулятивнх средних чеков B/A к 18.08 еще не стабилизоровалось к определённому значению, нельзя однозначно определить лучшую группу."
   ]
  },
  {
   "cell_type": "markdown",
   "id": "f1fea18f",
   "metadata": {},
   "source": [
    " <a class=\"anchor\" id=\"2.4.\"></a>\n",
    "### 2.4. Построение графика кумулятивной конверсии по группам."
   ]
  },
  {
   "cell_type": "code",
   "execution_count": 16,
   "id": "e2dcd665",
   "metadata": {},
   "outputs": [
    {
     "name": "stdout",
     "output_type": "stream",
     "text": [
      "        date  visitorsByDateA\n",
      "0 2019-08-01  719            \n",
      "1 2019-08-02  1338           \n",
      "2 2019-08-03  1845           \n",
      "3 2019-08-04  2562           \n",
      "4 2019-08-05  3318           \n",
      "        date  visitorsByDateB\n",
      "0 2019-08-01  713            \n",
      "1 2019-08-02  1294           \n",
      "2 2019-08-03  1803           \n",
      "3 2019-08-04  2573           \n",
      "4 2019-08-05  3280           \n"
     ]
    }
   ],
   "source": [
    "visitorsByDateA = visitors[visitors['group'] == 'A'].groupby('date',as_index = False).agg({'visitors': 'sum'})\n",
    "visitorsByDateB = visitors[visitors['group'] == 'B'].groupby('date',as_index = False).agg({'visitors': 'sum'})\n",
    "visitorsByDateA.columns = ['date','visitorsByDateA']\n",
    "visitorsByDateB.columns = ['date','visitorsByDateB']\n",
    "\n",
    "visitorsCumulativeA = visitorsByDateA.apply(lambda x: visitorsByDateA[visitorsByDateA['date']<=x['date']].agg({'date':'max','visitorsByDateA':'sum'}),axis=1).sort_values(by = 'date')\n",
    "visitorsCumulativeB = visitorsByDateB.apply(lambda x: visitorsByDateB[visitorsByDateB['date']<=x['date']].agg({'date':'max','visitorsByDateB':'sum'}),axis=1).sort_values(by = 'date')\n",
    "\n",
    "print(visitorsCumulativeA.head())\n",
    "print(visitorsCumulativeB.head())"
   ]
  },
  {
   "cell_type": "code",
   "execution_count": 17,
   "id": "cace3eb7",
   "metadata": {},
   "outputs": [
    {
     "data": {
      "text/plain": [
       "<matplotlib.legend.Legend at 0x1890bdf48b0>"
      ]
     },
     "execution_count": 17,
     "metadata": {},
     "output_type": "execute_result"
    },
    {
     "data": {
      "image/png": "[encoded data removed]",
      "text/plain": [
       "<Figure size 1440x504 with 1 Axes>"
      ]
     },
     "metadata": {
      "needs_background": "light"
     },
     "output_type": "display_data"
    }
   ],
   "source": [
    "plt.figure(figsize=(20,7))\n",
    "plt.plot(ordersCumulativeB['date'],ordersCumulativeA['ordersByDateA']/visitorsCumulativeA['visitorsByDateA'],label = 'Group A')\n",
    "plt.plot(ordersCumulativeB['date'],ordersCumulativeB['ordersByDateB']/visitorsCumulativeB['visitorsByDateB'],label = 'Group B')\n",
    "\n",
    "plt.title('График кумулятивной конверсии по группам', size = 16, color = 'r')\n",
    "plt.xlabel('Дата',size = 16)\n",
    "plt.ylabel('Кумулятивная конверсия',size = 16)\n",
    "\n",
    "plt.grid()\n",
    "plt.legend()"
   ]
  },
  {
   "cell_type": "markdown",
   "id": "910a48bb",
   "metadata": {},
   "source": [
    "<a class=\"anchor\" id=\"2.4.1.\"></a>\n",
    "#### 2.4.1. Выводы и предположения."
   ]
  },
  {
   "cell_type": "markdown",
   "id": "a2a2db75",
   "metadata": {},
   "source": [
    "Уже после 10.08 конверсия начинает стабилизироваться, при этом конверсия группы В (2.9%) стабильно выше конверсии группы А (2.6%)."
   ]
  },
  {
   "cell_type": "markdown",
   "id": "aafe8e47",
   "metadata": {},
   "source": [
    " <a class=\"anchor\" id=\"2.5.\"></a>\n",
    "### 2.5. Построение графика относительного изменения кумулятивной конверсии группы B к группе A."
   ]
  },
  {
   "cell_type": "code",
   "execution_count": 18,
   "id": "71bc3a13",
   "metadata": {},
   "outputs": [
    {
     "data": {
      "image/png": "[encoded data removed]",
      "text/plain": [
       "<Figure size 1440x504 with 1 Axes>"
      ]
     },
     "metadata": {
      "needs_background": "light"
     },
     "output_type": "display_data"
    }
   ],
   "source": [
    "plt.figure(figsize=(20,7))\n",
    "plt.plot(ordersCumulativeB['date'],(ordersCumulativeB['ordersByDateB']/visitorsCumulativeB['visitorsByDateB'])/(ordersCumulativeA['ordersByDateA']/visitorsCumulativeA['visitorsByDateA']))\n",
    "\n",
    "plt.title('График относительного изменения кумулятивной конверсии группы B к группе A', size = 16, color = 'r')\n",
    "plt.xlabel('Дата', size = 16)\n",
    "\n",
    "plt.grid()\n",
    "plt.show()"
   ]
  },
  {
   "cell_type": "markdown",
   "id": "2a9c8054",
   "metadata": {},
   "source": [
    " <a class=\"anchor\" id=\"2.5.1.\"></a>\n",
    "#### 2.5.1. Выводы и предположения"
   ]
  },
  {
   "cell_type": "markdown",
   "id": "27e2f838",
   "metadata": {},
   "source": [
    "После 10.08 конверсия группы B держится на 10-15% выше конверсии группы А."
   ]
  },
  {
   "cell_type": "markdown",
   "id": "f3a28a6d",
   "metadata": {},
   "source": [
    " <a class=\"anchor\" id=\"2.6.\"></a>\n",
    "### 2.6.  Построение точечного графика количества заказов по пользователям."
   ]
  },
  {
   "cell_type": "code",
   "execution_count": 19,
   "id": "9f5db0c9",
   "metadata": {},
   "outputs": [
    {
     "data": {
      "image/png": "[encoded data removed]",
      "text/plain": [
       "<Figure size 1440x504 with 1 Axes>"
      ]
     },
     "metadata": {
      "needs_background": "light"
     },
     "output_type": "display_data"
    }
   ],
   "source": [
    "ordersByUsersA = orders_clear[orders_clear['group'] == \"A\"].groupby(['visitorId'],as_index = False).agg({'transactionId':pd.Series.nunique})\n",
    "ordersByUsersA.columns = ['visitorId','orders']\n",
    "ordersByUsersB = orders_clear[orders_clear['group'] == \"B\"].groupby(['visitorId'],as_index = False).agg({'transactionId':pd.Series.nunique})\n",
    "ordersByUsersB.columns = ['visitorId','orders']\n",
    "\n",
    "plt.figure(figsize=(20,7))\n",
    "plt.scatter(ordersByUsersA['visitorId'],ordersByUsersA['orders'], alpha = 0.3,color = 'b',label = 'группа A')\n",
    "plt.scatter(ordersByUsersB['visitorId'],ordersByUsersB['orders'], alpha = 0.3,color = 'r',label = 'группа B')\n",
    "plt.legend()\n",
    "\n",
    "plt.title('Точечный график количества заказов по пользователям', size = 16, color = 'r')\n",
    "plt.xlabel('Пользователи',size = 16)\n",
    "plt.ylabel('Количество заказов на 1 пользователя',size = 16)\n",
    "\n",
    "plt.grid()\n",
    "plt.show()"
   ]
  },
  {
   "cell_type": "markdown",
   "id": "6a41bbd3",
   "metadata": {},
   "source": [
    " <a class=\"anchor\" id=\"2.6.1.\"></a>\n",
    "#### 2.6.1. Выводы и предположения"
   ]
  },
  {
   "cell_type": "markdown",
   "id": "bfeca770",
   "metadata": {},
   "source": [
    "Большая часть пользователей сделали по 1-2 заказа, пользователи с заказами 3 - единичные."
   ]
  },
  {
   "cell_type": "markdown",
   "id": "6f65c139",
   "metadata": {},
   "source": [
    " <a class=\"anchor\" id=\"2.7.\"></a>\n",
    "### 2.7.  Расчёт 95-й и 99-й перцентилей количества заказов на пользователя"
   ]
  },
  {
   "cell_type": "code",
   "execution_count": 20,
   "id": "00f00ce8",
   "metadata": {},
   "outputs": [
    {
     "name": "stdout",
     "output_type": "stream",
     "text": [
      "[1. 2.]\n"
     ]
    }
   ],
   "source": [
    "ordersByUsers = orders_clear.groupby(['visitorId'],as_index = False).agg({'transactionId':pd.Series.nunique})\n",
    "ordersByUsers.columns = ['visitorId','number_of_orders']\n",
    "print(np.percentile(ordersByUsers['number_of_orders'], [95, 99])) "
   ]
  },
  {
   "cell_type": "markdown",
   "id": "a02ab96e",
   "metadata": {},
   "source": [
    " <a class=\"anchor\" id=\"2.7.1.\"></a>\n",
    "#### 2.7.1. Выбор границы для определения аномальных пользователей."
   ]
  },
  {
   "cell_type": "code",
   "execution_count": 21,
   "id": "64de4bf4",
   "metadata": {},
   "outputs": [],
   "source": [
    "ord_count_limit = np.percentile(ordersByUsers['number_of_orders'], [95, 99])[1]"
   ]
  },
  {
   "cell_type": "markdown",
   "id": "ed18889e",
   "metadata": {},
   "source": [
    "В 95% пользователей количество заказов не превышает 1го, у 99% - 2х.\n",
    "За аномальных пользователей примем тех, у кого количество заказов более 2х, т.о. мы отсечем не более 1% выборки"
   ]
  },
  {
   "cell_type": "markdown",
   "id": "81f53786",
   "metadata": {},
   "source": [
    " <a class=\"anchor\" id=\"2.8.\"></a>\n",
    "### 2.8.  Построение точечного графика стоимостей заказов."
   ]
  },
  {
   "cell_type": "code",
   "execution_count": 22,
   "id": "80869a29",
   "metadata": {},
   "outputs": [
    {
     "data": {
      "image/png": "[encoded data removed]",
      "text/plain": [
       "<Figure size 1440x504 with 1 Axes>"
      ]
     },
     "metadata": {
      "needs_background": "light"
     },
     "output_type": "display_data"
    }
   ],
   "source": [
    "revenueByOrdersA = orders_clear[orders_clear['group'] == \"A\"].groupby(['transactionId'],as_index = False).agg({'revenue':'sum'})\n",
    "revenueByOrdersB = orders_clear[orders_clear['group'] == \"B\"].groupby(['transactionId'],as_index = False).agg({'revenue':'sum'})\n",
    "\n",
    "plt.figure(figsize=(20,7))\n",
    "plt.scatter(revenueByOrdersA['transactionId'],revenueByOrdersA['revenue'], alpha = 0.5,color = 'b',label = 'группа A')\n",
    "plt.scatter(revenueByOrdersB['transactionId'],revenueByOrdersB['revenue'], alpha = 0.5,color = 'r',label = 'группа B')\n",
    "plt.legend()\n",
    "plt.title('Точечный график стоимостей заказов', size = 16, color = 'r')\n",
    "plt.xlabel('Заказы пользователей')\n",
    "plt.ylabel('Сумма заказа')\n",
    "plt.grid()\n",
    "plt.show()"
   ]
  },
  {
   "cell_type": "code",
   "execution_count": 23,
   "id": "ef60b41b",
   "metadata": {},
   "outputs": [
    {
     "data": {
      "image/png": "[encoded data removed]",
      "text/plain": [
       "<Figure size 1440x504 with 1 Axes>"
      ]
     },
     "metadata": {
      "needs_background": "light"
     },
     "output_type": "display_data"
    }
   ],
   "source": [
    "revenueByOrdersA = orders_clear[np.logical_and(orders_clear['group'] == \"A\",orders_clear['revenue']<=58233)].groupby(['transactionId'],as_index = False).agg({'revenue':'sum'})\n",
    "revenueByOrdersB = orders_clear[np.logical_and(orders_clear['group'] == \"B\",orders_clear['revenue']<=58233)].groupby(['transactionId'],as_index = False).agg({'revenue':'sum'})\n",
    "\n",
    "plt.figure(figsize=(20,7))\n",
    "plt.scatter(revenueByOrdersA['transactionId'],revenueByOrdersA['revenue'], alpha = 0.5,color = 'b',label = 'группа A')\n",
    "plt.scatter(revenueByOrdersB['transactionId'],revenueByOrdersB['revenue'], alpha = 0.5,color = 'r',label = 'группа B')\n",
    "plt.legend()\n",
    "plt.title('Точечный график стоимостей заказов БЕЗ выбросов', size = 16, color = 'r')\n",
    "plt.xlabel('Заказы пользователей')\n",
    "plt.ylabel('Сумма заказа')\n",
    "plt.grid()\n",
    "plt.show()"
   ]
  },
  {
   "cell_type": "markdown",
   "id": "402cf598",
   "metadata": {},
   "source": [
    " <a class=\"anchor\" id=\"2.8.1.\"></a>\n",
    "#### 2.8.1. Выводы и предположения"
   ]
  },
  {
   "cell_type": "markdown",
   "id": "5a72b89b",
   "metadata": {},
   "source": [
    "В стоимости заказов группы В видны явные выбросы: заказ на 1.3 млн и на 200 тыс. Остальные заказы не превышают 60 тыс."
   ]
  },
  {
   "cell_type": "markdown",
   "id": "5c83dea8",
   "metadata": {},
   "source": [
    " <a class=\"anchor\" id=\"2.9.\"></a>\n",
    "### 2.9.   Расчёт 95-й и 99-й перцентили стоимости заказов.\n"
   ]
  },
  {
   "cell_type": "code",
   "execution_count": 24,
   "id": "b536b23b",
   "metadata": {},
   "outputs": [
    {
     "name": "stdout",
     "output_type": "stream",
     "text": [
      "[26785. 53904.]\n"
     ]
    }
   ],
   "source": [
    "revenueByOrders = orders_clear.groupby(['transactionId'],as_index = False).agg({'revenue':'sum'})\n",
    "\n",
    "print(np.percentile(revenueByOrders['revenue'], [95, 99]))"
   ]
  },
  {
   "cell_type": "markdown",
   "id": "dcb6b2eb",
   "metadata": {},
   "source": [
    " <a class=\"anchor\" id=\"2.9.1.\"></a>\n",
    "#### 2.9.1. Выбор границы для определения аномальных заказов."
   ]
  },
  {
   "cell_type": "code",
   "execution_count": 25,
   "id": "692ddc16",
   "metadata": {},
   "outputs": [],
   "source": [
    "revenue_limit = np.percentile(revenueByOrders['revenue'], [95, 99])[1]"
   ]
  },
  {
   "cell_type": "markdown",
   "id": "90290b3c",
   "metadata": {},
   "source": [
    "В 95% заказов сумма заказа не превышает 27 тыс., в 99% не превышает 54 тыс.\n",
    "За аномальных пользователей примем заказы суммой более 54000, т.о. мы отсечем не более 1% выборки"
   ]
  },
  {
   "cell_type": "markdown",
   "id": "cb63a780",
   "metadata": {},
   "source": [
    " <a class=\"anchor\" id=\"2.10.\"></a>\n",
    "### 2.10.    Расчёт статистической значимости различий в конверсии между группами по «сырым» данным.\n",
    " "
   ]
  },
  {
   "cell_type": "markdown",
   "id": "4aca9113",
   "metadata": {},
   "source": [
    "Проверим различаются ли конверсии в группах А и В.\n",
    "\n",
    "H0: конверсии в обеих группах не различаются.\n",
    "\n",
    "H1: конверсии различны в группах A и B."
   ]
  },
  {
   "cell_type": "code",
   "execution_count": 26,
   "id": "186f4134",
   "metadata": {},
   "outputs": [],
   "source": [
    "convA = orders[orders['group'] == 'A']['visitorId'].nunique()/visitors[visitors['group'] == 'A']['visitors'].sum()\n",
    "convB = orders[orders['group'] == 'B']['visitorId'].nunique()/visitors[visitors['group'] == 'B']['visitors'].sum()"
   ]
  },
  {
   "cell_type": "code",
   "execution_count": 27,
   "id": "39d1b099",
   "metadata": {},
   "outputs": [
    {
     "name": "stdout",
     "output_type": "stream",
     "text": [
      "Конверсия группы А: 2.68%\n",
      "Конверсия группы B: 3.10%\n",
      "Конверсия группы B больше А на 15.39%\n",
      "p-значение: 0.01674\n",
      "Отвергаем нулевую гипотезу: между конверсиями есть значимая разница\n"
     ]
    }
   ],
   "source": [
    "alpha = .05 # критический уровень статистической значимости\n",
    "\n",
    "ordersNum = np.array([orders[orders['group'] == 'A']['visitorId'].nunique(), orders[orders['group'] == 'B']['visitorId'].nunique()])\n",
    "visitorsNum = np.array([visitors[visitors['group'] == 'A']['visitors'].sum(), visitors[visitors['group'] == 'B']['visitors'].sum()])\n",
    "\n",
    "# пропорция успехов в первой группе:\n",
    "p1 = ordersNum[0]/visitorsNum[0]\n",
    "\n",
    "# пропорция успехов во второй группе:\n",
    "p2 = ordersNum[1]/visitorsNum[1]\n",
    "\n",
    "# пропорция успехов в комбинированном датасете:\n",
    "p_combined = (ordersNum[0] + ordersNum[1]) / (visitorsNum[0] + visitorsNum[1])\n",
    "\n",
    "# разница пропорций в датасетах\n",
    "difference = p1 - p2 \n",
    "\n",
    "# считаем статистику в ст.отклонениях стандартного нормального распределения\n",
    "z_value = difference / mth.sqrt(p_combined * (1 - p_combined) * (1/visitorsNum[0] + 1/visitorsNum[1]))\n",
    "\n",
    "# задаем стандартное нормальное распределение (среднее 0, ст.отклонение 1)\n",
    "distr = st.norm(0, 1)\n",
    "\n",
    "p_value = (1 - distr.cdf(abs(z_value))) * 2\n",
    "\n",
    "\n",
    "print(f'Конверсия группы А: {convA:.2%}')\n",
    "print(f'Конверсия группы B: {convB:.2%}')\n",
    "print(f'Конверсия группы B больше А на {convB/convA - 1:.2%}')\n",
    "\n",
    "print(f'p-значение: {p_value:.5f}')\n",
    "\n",
    "if p_value < alpha:\n",
    "    print('Отвергаем нулевую гипотезу: между конверсиями есть значимая разница')\n",
    "else:\n",
    "    print(\n",
    "        'Не получилось отвергнуть нулевую гипотезу, нет оснований считать конверсии разными'\n",
    "    ) "
   ]
  },
  {
   "cell_type": "markdown",
   "id": "44da0d34",
   "metadata": {},
   "source": [
    "<a class=\"anchor\" id=\"2.10.1.\"></a>\n",
    "#### 2.10.1. Выводы и предположения."
   ]
  },
  {
   "cell_type": "markdown",
   "id": "035502a0",
   "metadata": {},
   "source": [
    "Не подтвержилась нулевая гипотеза.\n",
    "\n",
    "Конверсии групп A и B отличаются. \n",
    "\n",
    "В группе В конверсия выше, различие в конверсиях между группами статистически значимо"
   ]
  },
  {
   "cell_type": "markdown",
   "id": "c60410b5",
   "metadata": {},
   "source": [
    " <a class=\"anchor\" id=\"2.11.\"></a>\n",
    "### 2.11. Расчёт статистической значимости различий в среднем чеке заказа между группами по «сырым» данным."
   ]
  },
  {
   "cell_type": "markdown",
   "id": "a86671f0",
   "metadata": {},
   "source": [
    "Проверим различаются ли суммы среднего чека в группах А и В.\n",
    "\n",
    "H0: средние чеки в обеих группах не различаются.\n",
    "\n",
    "H1: средние чеки различны в группах А и В."
   ]
  },
  {
   "cell_type": "code",
   "execution_count": 28,
   "id": "724df45c",
   "metadata": {},
   "outputs": [],
   "source": [
    "revenueA = orders_clear[orders_clear['group'] == 'A']['revenue']\n",
    "revenueB = orders_clear[orders_clear['group'] == 'B']['revenue']"
   ]
  },
  {
   "cell_type": "code",
   "execution_count": 29,
   "id": "cfeb659a",
   "metadata": {},
   "outputs": [
    {
     "name": "stdout",
     "output_type": "stream",
     "text": [
      "Средний чек группы А: 7189.44\n",
      "Средний чек группы B: 9249.95\n",
      "% превышения среднего чека группы B над группой А: 28.66%\n",
      "\n",
      "p-значение теста Манна-Уитни: 0.82949\n",
      "Не получилось отвергнуть нулевую гипотезу, вывод о различии по тесту Манна-Уитни сделать нельзя\n"
     ]
    }
   ],
   "source": [
    "alpha = 0.05\n",
    "print(f'Средний чек группы А: {revenueA.mean():.2f}')\n",
    "print(f'Средний чек группы B: {revenueB.mean():.2f}')\n",
    "print(f'% превышения среднего чека группы B над группой А: {revenueB.mean()/revenueA.mean()-1:.2%}')\n",
    "print()\n",
    "resultsMW = st.mannwhitneyu(revenueA, revenueB)\n",
    "print(f'p-значение теста Манна-Уитни: {resultsMW.pvalue:.5f}')\n",
    "\n",
    "if (resultsMW.pvalue < alpha):\n",
    "    print(\"Отвергаем нулевую гипотезу: разница средних чеков групп А и В статистически значима\")\n",
    "else:\n",
    "        print(\"Не получилось отвергнуть нулевую гипотезу, вывод о различии по тесту Манна-Уитни сделать нельзя\")"
   ]
  },
  {
   "cell_type": "markdown",
   "id": "53a5fb4f",
   "metadata": {},
   "source": [
    "<a class=\"anchor\" id=\"2.11.1.\"></a>\n",
    "#### 2.11.1. Выводы и предположения."
   ]
  },
  {
   "cell_type": "markdown",
   "id": "ea7bf4ad",
   "metadata": {},
   "source": [
    "Подтвердилась нулевая гипотеза.\n",
    "\n",
    "По результатам тестов средний чек в группах А и В не отличается. \n",
    "\n",
    "Однако средний чек В больше чем А на 25%! Вероятно из-за наличия больших выбросов в выборке."
   ]
  },
  {
   "cell_type": "markdown",
   "id": "003c3573",
   "metadata": {},
   "source": [
    " <a class=\"anchor\" id=\"2.12.\"></a>\n",
    "### 2.12. Расчёт статистической значимости различий в конверсии между группами по «очищенным» данным."
   ]
  },
  {
   "cell_type": "markdown",
   "id": "8daaf12d",
   "metadata": {},
   "source": [
    "Найдём пользователей среди которых есть данные с выбросами по кол-ву и суммами заказов.\n",
    "\n",
    "Запишем данные о таких пользователях в таблицу `abnormalUsers`"
   ]
  },
  {
   "cell_type": "code",
   "execution_count": 30,
   "id": "31bdca89",
   "metadata": {
    "scrolled": true
   },
   "outputs": [
    {
     "name": "stdout",
     "output_type": "stream",
     "text": [
      "1099    148427295 \n",
      "33      249864742 \n",
      "58      611059232 \n",
      "949     887908475 \n",
      "744     888512513 \n",
      "1103    1164614297\n",
      "1136    1307669133\n",
      "425     1920142716\n",
      "1196    2108080724\n",
      "211     2108163459\n",
      "347     2742574263\n",
      "310     2988190573\n",
      "409     3908431265\n",
      "416     3967698036\n",
      "940     4003628586\n",
      "743     4133034833\n",
      "Name: visitorId, dtype: int64\n",
      "16 пользователей с выбросами по кол-ву и суммами заказов\n"
     ]
    }
   ],
   "source": [
    "# пользователи с количеством заказов, большим ord_count_limit\n",
    "usersWithManyOrders = pd.concat(\n",
    "    [\n",
    "        ordersByUsersA[ordersByUsersA['orders'] > ord_count_limit]['visitorId'],\n",
    "        ordersByUsersB[ordersByUsersB['orders'] > ord_count_limit]['visitorId'],\n",
    "    ],\n",
    "    axis=0,\n",
    ")\n",
    "# пользователи с суммами заказов, большим revenue_limit\n",
    "usersWithExpensiveOrders = orders_clear[orders_clear['revenue'] > revenue_limit]['visitorId']\n",
    "# Список аномальных visitorId\n",
    "abnormalUsers = (\n",
    "    pd.concat([usersWithManyOrders, usersWithExpensiveOrders], axis=0)\n",
    "    .drop_duplicates()\n",
    "    .sort_values()\n",
    ")\n",
    "\n",
    "print(abnormalUsers)\n",
    "\n",
    "print(len(abnormalUsers),'пользователей с выбросами по кол-ву и суммами заказов')"
   ]
  },
  {
   "cell_type": "code",
   "execution_count": 31,
   "id": "4e42250c",
   "metadata": {},
   "outputs": [],
   "source": [
    "convA_cleared = orders_clear[np.logical_and(orders_clear['group'] == 'A',np.logical_not(orders_clear['visitorId'].isin(abnormalUsers)))]['visitorId'].nunique()/visitors[visitors['group'] == 'A']['visitors'].sum()\n",
    "convB_cleared = orders_clear[np.logical_and(orders_clear['group'] == 'B',np.logical_not(orders_clear['visitorId'].isin(abnormalUsers)))]['visitorId'].nunique()/visitors[visitors['group'] == 'B']['visitors'].sum()"
   ]
  },
  {
   "cell_type": "markdown",
   "id": "713841e0",
   "metadata": {},
   "source": [
    "Проверим различаются ли конверсии по данным, очищенным от выбросов в группах А и В.\n",
    "\n",
    "H0: конверсии в обеих группах не различаются.\n",
    "\n",
    "H1: конверсии группах различны."
   ]
  },
  {
   "cell_type": "code",
   "execution_count": 32,
   "id": "18ac41d4",
   "metadata": {
    "scrolled": true
   },
   "outputs": [
    {
     "name": "stdout",
     "output_type": "stream",
     "text": [
      "Конверсия группы А: 2.32%\n",
      "Конверсия группы B: 2.76%\n",
      "Конверсия группы B больше А на 18.86%\n",
      "p-значение: 0.01122\n",
      "\n",
      "Отвергаем нулевую гипотезу: между конверсиями есть значимая разница\n"
     ]
    }
   ],
   "source": [
    "alpha = .05 # критический уровень статистической значимости\n",
    "\n",
    "ordersNum_cleared = np.array(\n",
    "    [\n",
    "        orders[\n",
    "            np.logical_and(\n",
    "                orders['group'] == 'A',\n",
    "                np.logical_not(orders['visitorId'].isin(abnormalUsers))\n",
    "            )]['visitorId'].nunique(),\n",
    "        orders[\n",
    "            np.logical_and(\n",
    "                orders['group'] == 'B',\n",
    "                np.logical_not(orders['visitorId'].isin(abnormalUsers))\n",
    "            )]['visitorId'].nunique()\n",
    "    ]\n",
    ")\n",
    "\n",
    "# пропорция успехов в первой группе:\n",
    "p1 = ordersNum_cleared[0]/visitorsNum[0]\n",
    "\n",
    "# пропорция успехов во второй группе:\n",
    "p2 = ordersNum_cleared[1]/visitorsNum[1]\n",
    "\n",
    "# пропорция успехов в комбинированном датасете:\n",
    "p_combined = (ordersNum_cleared[0] + ordersNum_cleared[1]) / (visitorsNum[0] + visitorsNum[1])\n",
    "\n",
    "# разница пропорций в датасетах\n",
    "difference = p1 - p2 \n",
    "\n",
    "# считаем статистику в ст.отклонениях стандартного нормального распределения\n",
    "z_value = difference / mth.sqrt(p_combined * (1 - p_combined) * (1/visitorsNum[0] + 1/visitorsNum[1]))\n",
    "\n",
    "# задаем стандартное нормальное распределение (среднее 0, ст.отклонение 1)\n",
    "distr = st.norm(0, 1)\n",
    "\n",
    "p_value = (1 - distr.cdf(abs(z_value))) * 2\n",
    "\n",
    "\n",
    "print(f'Конверсия группы А: {convA_cleared:.2%}')\n",
    "print(f'Конверсия группы B: {convB_cleared:.2%}')\n",
    "print(f'Конверсия группы B больше А на {convB_cleared/convA_cleared - 1:.2%}')\n",
    "\n",
    "\n",
    "print(f'p-значение: {p_value:.5f}')\n",
    "\n",
    "if p_value < alpha:\n",
    "    print('\\nОтвергаем нулевую гипотезу: между конверсиями есть значимая разница')\n",
    "else:\n",
    "    print(\n",
    "        'Не получилось отвергнуть нулевую гипотезу, нет оснований считать конверсии разными'\n",
    "    ) "
   ]
  },
  {
   "cell_type": "markdown",
   "id": "6605a329",
   "metadata": {},
   "source": [
    "<a class=\"anchor\" id=\"2.12.1.\"></a>\n",
    "#### 2.12.1. Выводы и предположения."
   ]
  },
  {
   "cell_type": "markdown",
   "id": "1ccb6b43",
   "metadata": {},
   "source": [
    "Конверсия \"очищенных\" данных несколько снизилась, однако разница в конверсии осталась статистически значима, а размер различия даже вырос."
   ]
  },
  {
   "cell_type": "markdown",
   "id": "ce14d392",
   "metadata": {},
   "source": [
    " <a class=\"anchor\" id=\"2.13.\"></a>\n",
    "### 2.13. Расчёт статистической значимости различий в среднем чеке заказа между группами по «очищенным» данным."
   ]
  },
  {
   "cell_type": "markdown",
   "id": "bd856e0a",
   "metadata": {},
   "source": [
    "Проверим различаются ли средние чеки по данным, очищенным от выбросов в группах А и В.\n",
    "\n",
    "H0: средние чеки в обеих группах не различаются.\n",
    "\n",
    "H1: средние чеки в группах различны."
   ]
  },
  {
   "cell_type": "code",
   "execution_count": 33,
   "id": "b00914da",
   "metadata": {},
   "outputs": [
    {
     "name": "stdout",
     "output_type": "stream",
     "text": [
      "Средний чек группы А по очищенным данным: 6487.02\n",
      "Средний чек группы B по очищенным данным: 6277.27\n",
      "% превышения среднего чека группы B над группой А: -3.23%\n",
      "\n",
      "p-значение теста Манна-Уитни: 0.78770\n",
      "Не получилось отвергнуть нулевую гипотезу, вывод о различии средних чеков по тесту Манна-Уитни сделать нельзя\n"
     ]
    }
   ],
   "source": [
    "alpha = .05\n",
    "\n",
    "revenueA_c = orders_clear[np.logical_and(orders_clear['group'] == 'A',np.logical_not(orders_clear['visitorId'].isin(abnormalUsers)))]['revenue']\n",
    "revenueB_c = orders_clear[np.logical_and(orders_clear['group'] == 'B',np.logical_not(orders_clear['visitorId'].isin(abnormalUsers)))]['revenue']\n",
    "\n",
    "print(f'Средний чек группы А по очищенным данным: {revenueA_c.mean():.2f}')\n",
    "print(f'Средний чек группы B по очищенным данным: {revenueB_c.mean():.2f}')\n",
    "print(f'% превышения среднего чека группы B над группой А: {revenueB_c.mean()/revenueA_c.mean()-1:.2%}')\n",
    "print()\n",
    "\n",
    "resultsMW = st.mannwhitneyu(revenueA_c,revenueB_c)\n",
    "print(f'p-значение теста Манна-Уитни: {resultsMW.pvalue:.5f}')\n",
    "\n",
    "if (resultsMW.pvalue < alpha):\n",
    "    print(\"Отвергаем нулевую гипотезу: разница статистически значима\")\n",
    "else:\n",
    "    print(\"Не получилось отвергнуть нулевую гипотезу, вывод о различии средних чеков по тесту Манна-Уитни сделать нельзя\")"
   ]
  },
  {
   "cell_type": "markdown",
   "id": "d815e1ea",
   "metadata": {},
   "source": [
    "<a class=\"anchor\" id=\"2.13.1.\"></a>\n",
    "#### 2.13.1. Выводы и предположения."
   ]
  },
  {
   "cell_type": "markdown",
   "id": "309c0876",
   "metadata": {},
   "source": [
    "После очистки от выбросов разница между средними чеками групп А и В составляет 3% и эта разница не является статистически значимой."
   ]
  },
  {
   "cell_type": "markdown",
   "id": "58eec6e0",
   "metadata": {},
   "source": [
    "<a class=\"anchor\" id=\"2.14.\"></a>\n",
    "### 2.14. Решение по результатам теста."
   ]
  },
  {
   "cell_type": "markdown",
   "id": "804ccd7a",
   "metadata": {},
   "source": [
    "Тестирование показало, что:\n",
    "* Статистически значимая разница в средних чеках между разными группами отсутствует\n",
    "* Подтверждено наличие статистически значимой разницы в конверсиях - группа В показывает на 19% большую конверсию\n",
    "* Анализ кумулятивной конверсии позволяет считать конверсию стабилизировавшейся.\n",
    "\n",
    "Т.о. рекомендуется остановить тест и зафиксировать победу группы В с показателем конверсии на 19% больше, чем у группы А."
   ]
  }
 ],
 "metadata": {
  "ExecuteTimeLog": [
   {
    "duration": 59,
    "start_time": "2022-09-29T12:23:05.295Z"
   },
   {
    "duration": 2450,
    "start_time": "2022-09-29T12:23:11.583Z"
   },
   {
    "duration": 25,
    "start_time": "2022-09-29T12:23:14.035Z"
   },
   {
    "duration": 13,
    "start_time": "2022-09-29T12:23:14.062Z"
   },
   {
    "duration": 13,
    "start_time": "2022-09-29T12:23:14.077Z"
   },
   {
    "duration": 9,
    "start_time": "2022-09-29T12:23:14.091Z"
   },
   {
    "duration": 9,
    "start_time": "2022-09-29T12:23:14.102Z"
   },
   {
    "duration": 1983,
    "start_time": "2022-09-29T12:23:14.113Z"
   },
   {
    "duration": 55,
    "start_time": "2022-09-29T12:23:16.098Z"
   },
   {
    "duration": 125,
    "start_time": "2022-09-29T12:23:16.155Z"
   },
   {
    "duration": 376,
    "start_time": "2022-09-29T12:23:16.283Z"
   },
   {
    "duration": 5,
    "start_time": "2022-09-29T12:23:16.661Z"
   },
   {
    "duration": 291,
    "start_time": "2022-09-29T12:23:16.667Z"
   },
   {
    "duration": 403,
    "start_time": "2022-09-29T12:23:16.960Z"
   },
   {
    "duration": 147,
    "start_time": "2022-09-29T12:23:17.365Z"
   },
   {
    "duration": 321,
    "start_time": "2022-09-29T12:23:17.515Z"
   },
   {
    "duration": 229,
    "start_time": "2022-09-29T12:23:17.838Z"
   },
   {
    "duration": 385,
    "start_time": "2022-09-29T12:23:18.069Z"
   },
   {
    "duration": 157,
    "start_time": "2022-09-29T12:23:18.456Z"
   },
   {
    "duration": 4,
    "start_time": "2022-09-29T12:23:18.614Z"
   },
   {
    "duration": 288,
    "start_time": "2022-09-29T12:23:18.620Z"
   },
   {
    "duration": 10,
    "start_time": "2022-09-29T12:23:18.909Z"
   },
   {
    "duration": 34,
    "start_time": "2022-09-29T12:23:18.921Z"
   },
   {
    "duration": 26,
    "start_time": "2022-09-29T12:23:18.957Z"
   },
   {
    "duration": 17,
    "start_time": "2022-09-29T12:23:18.985Z"
   },
   {
    "duration": 21,
    "start_time": "2022-09-29T12:23:19.003Z"
   },
   {
    "duration": 13,
    "start_time": "2022-09-29T12:23:19.025Z"
   },
   {
    "duration": 26,
    "start_time": "2022-09-29T12:23:19.040Z"
   },
   {
    "duration": 22,
    "start_time": "2022-09-29T12:23:19.069Z"
   },
   {
    "duration": 9,
    "start_time": "2022-09-29T12:23:19.093Z"
   },
   {
    "duration": 12,
    "start_time": "2022-09-29T12:23:19.105Z"
   },
   {
    "duration": 12,
    "start_time": "2022-09-29T12:23:19.119Z"
   },
   {
    "duration": 9,
    "start_time": "2022-09-29T12:23:19.143Z"
   },
   {
    "duration": 4,
    "start_time": "2022-09-29T12:24:55.366Z"
   },
   {
    "duration": 3,
    "start_time": "2022-09-29T12:32:20.849Z"
   },
   {
    "duration": 55,
    "start_time": "2022-09-29T16:52:43.688Z"
   },
   {
    "duration": 2414,
    "start_time": "2022-09-29T16:52:50.547Z"
   },
   {
    "duration": 17,
    "start_time": "2022-09-29T16:53:01.175Z"
   },
   {
    "duration": 16,
    "start_time": "2022-09-29T16:53:17.444Z"
   },
   {
    "duration": 15,
    "start_time": "2022-09-29T16:53:25.636Z"
   },
   {
    "duration": 115,
    "start_time": "2022-09-29T16:53:53.095Z"
   },
   {
    "duration": 21,
    "start_time": "2022-09-29T16:54:00.042Z"
   },
   {
    "duration": 20,
    "start_time": "2022-09-29T16:54:06.101Z"
   },
   {
    "duration": 22,
    "start_time": "2022-09-29T16:54:21.450Z"
   },
   {
    "duration": 16,
    "start_time": "2022-09-29T16:54:27.840Z"
   },
   {
    "duration": 47,
    "start_time": "2022-09-30T10:18:18.629Z"
   },
   {
    "duration": 2264,
    "start_time": "2022-09-30T10:18:49.825Z"
   },
   {
    "duration": 16,
    "start_time": "2022-09-30T10:18:52.091Z"
   },
   {
    "duration": 13,
    "start_time": "2022-09-30T10:18:52.109Z"
   },
   {
    "duration": 22,
    "start_time": "2022-09-30T10:18:52.124Z"
   },
   {
    "duration": 10,
    "start_time": "2022-09-30T10:18:52.147Z"
   },
   {
    "duration": 12,
    "start_time": "2022-09-30T10:18:52.159Z"
   },
   {
    "duration": 2057,
    "start_time": "2022-09-30T10:18:52.172Z"
   },
   {
    "duration": 33,
    "start_time": "2022-09-30T10:18:54.231Z"
   },
   {
    "duration": 121,
    "start_time": "2022-09-30T10:18:54.266Z"
   },
   {
    "duration": 321,
    "start_time": "2022-09-30T10:18:54.391Z"
   },
   {
    "duration": 6,
    "start_time": "2022-09-30T10:18:54.714Z"
   },
   {
    "duration": 244,
    "start_time": "2022-09-30T10:18:54.733Z"
   },
   {
    "duration": 412,
    "start_time": "2022-09-30T10:18:54.979Z"
   },
   {
    "duration": 103,
    "start_time": "2022-09-30T10:18:55.393Z"
   },
   {
    "duration": 256,
    "start_time": "2022-09-30T10:18:55.498Z"
   },
   {
    "duration": 209,
    "start_time": "2022-09-30T10:18:55.756Z"
   },
   {
    "duration": 374,
    "start_time": "2022-09-30T10:18:55.966Z"
   },
   {
    "duration": 175,
    "start_time": "2022-09-30T10:18:56.342Z"
   },
   {
    "duration": 14,
    "start_time": "2022-09-30T10:18:56.519Z"
   },
   {
    "duration": 230,
    "start_time": "2022-09-30T10:18:56.535Z"
   },
   {
    "duration": 8,
    "start_time": "2022-09-30T10:18:56.767Z"
   },
   {
    "duration": 4,
    "start_time": "2022-09-30T10:18:56.777Z"
   },
   {
    "duration": 11,
    "start_time": "2022-09-30T10:18:56.782Z"
   },
   {
    "duration": 41,
    "start_time": "2022-09-30T10:18:56.795Z"
   },
   {
    "duration": 5,
    "start_time": "2022-09-30T10:18:56.838Z"
   },
   {
    "duration": 35,
    "start_time": "2022-09-30T10:18:56.845Z"
   },
   {
    "duration": 16,
    "start_time": "2022-09-30T10:18:56.881Z"
   },
   {
    "duration": 7,
    "start_time": "2022-09-30T10:18:56.900Z"
   },
   {
    "duration": 11,
    "start_time": "2022-09-30T10:18:56.909Z"
   },
   {
    "duration": 20,
    "start_time": "2022-09-30T10:18:56.921Z"
   },
   {
    "duration": 5,
    "start_time": "2022-09-30T10:18:56.943Z"
   },
   {
    "duration": 53,
    "start_time": "2022-09-30T10:24:33.205Z"
   },
   {
    "duration": 4,
    "start_time": "2022-09-30T10:24:49.109Z"
   },
   {
    "duration": 4,
    "start_time": "2022-09-30T10:26:28.100Z"
   },
   {
    "duration": 7,
    "start_time": "2022-09-30T10:27:36.702Z"
   },
   {
    "duration": 9,
    "start_time": "2022-09-30T10:28:54.894Z"
   },
   {
    "duration": 11,
    "start_time": "2022-09-30T10:29:08.127Z"
   },
   {
    "duration": 756,
    "start_time": "2022-09-30T10:58:44.149Z"
   },
   {
    "duration": 13,
    "start_time": "2022-09-30T10:59:23.902Z"
   },
   {
    "duration": 21,
    "start_time": "2022-09-30T11:00:54.454Z"
   },
   {
    "duration": 17,
    "start_time": "2022-09-30T11:01:11.768Z"
   },
   {
    "duration": 13,
    "start_time": "2022-09-30T11:04:00.698Z"
   },
   {
    "duration": 2051,
    "start_time": "2022-09-30T11:04:46.435Z"
   },
   {
    "duration": 18,
    "start_time": "2022-09-30T11:04:48.488Z"
   },
   {
    "duration": 15,
    "start_time": "2022-09-30T11:04:48.508Z"
   },
   {
    "duration": 13,
    "start_time": "2022-09-30T11:04:48.525Z"
   },
   {
    "duration": 16,
    "start_time": "2022-09-30T11:04:48.539Z"
   },
   {
    "duration": 11,
    "start_time": "2022-09-30T11:04:48.557Z"
   },
   {
    "duration": 2284,
    "start_time": "2022-09-30T11:04:48.570Z"
   },
   {
    "duration": 10,
    "start_time": "2022-09-30T11:04:50.856Z"
   },
   {
    "duration": 9,
    "start_time": "2022-09-30T11:05:41.552Z"
   },
   {
    "duration": 140,
    "start_time": "2022-09-30T11:06:15.232Z"
   },
   {
    "duration": 13,
    "start_time": "2022-09-30T11:06:27.830Z"
   },
   {
    "duration": 1189,
    "start_time": "2022-09-30T11:07:37.546Z"
   },
   {
    "duration": 18,
    "start_time": "2022-09-30T11:07:56.207Z"
   },
   {
    "duration": 13,
    "start_time": "2022-09-30T11:08:11.970Z"
   },
   {
    "duration": 15,
    "start_time": "2022-09-30T11:08:17.012Z"
   },
   {
    "duration": 71,
    "start_time": "2022-09-30T11:08:55.830Z"
   },
   {
    "duration": 11,
    "start_time": "2022-09-30T11:09:02.878Z"
   },
   {
    "duration": 23,
    "start_time": "2022-09-30T11:09:44.553Z"
   },
   {
    "duration": 21,
    "start_time": "2022-09-30T11:10:09.817Z"
   },
   {
    "duration": 25,
    "start_time": "2022-09-30T11:23:51.700Z"
   },
   {
    "duration": 20,
    "start_time": "2022-09-30T11:24:00.534Z"
   },
   {
    "duration": 20,
    "start_time": "2022-09-30T11:24:30.615Z"
   },
   {
    "duration": 21,
    "start_time": "2022-09-30T11:24:40.498Z"
   },
   {
    "duration": 21,
    "start_time": "2022-09-30T11:26:31.166Z"
   },
   {
    "duration": 21,
    "start_time": "2022-09-30T11:26:52.804Z"
   },
   {
    "duration": 22,
    "start_time": "2022-09-30T11:27:56.846Z"
   },
   {
    "duration": 21,
    "start_time": "2022-09-30T11:28:37.967Z"
   },
   {
    "duration": 33,
    "start_time": "2022-09-30T11:29:46.227Z"
   },
   {
    "duration": 25,
    "start_time": "2022-09-30T11:30:00.132Z"
   },
   {
    "duration": 28,
    "start_time": "2022-09-30T11:32:12.716Z"
   },
   {
    "duration": 11,
    "start_time": "2022-09-30T12:44:39.131Z"
   },
   {
    "duration": 20,
    "start_time": "2022-09-30T12:49:27.378Z"
   },
   {
    "duration": 19,
    "start_time": "2022-09-30T12:52:53.753Z"
   },
   {
    "duration": 16,
    "start_time": "2022-09-30T12:53:17.040Z"
   },
   {
    "duration": 13,
    "start_time": "2022-09-30T12:53:29.069Z"
   },
   {
    "duration": 18,
    "start_time": "2022-09-30T12:54:46.115Z"
   },
   {
    "duration": 17,
    "start_time": "2022-09-30T12:55:20.860Z"
   },
   {
    "duration": 14,
    "start_time": "2022-09-30T12:55:38.446Z"
   },
   {
    "duration": 7,
    "start_time": "2022-09-30T13:01:59.065Z"
   },
   {
    "duration": 11,
    "start_time": "2022-09-30T13:02:58.217Z"
   },
   {
    "duration": 12,
    "start_time": "2022-09-30T13:04:32.423Z"
   },
   {
    "duration": 27,
    "start_time": "2022-09-30T14:29:52.236Z"
   },
   {
    "duration": 15,
    "start_time": "2022-09-30T14:32:22.413Z"
   },
   {
    "duration": 10,
    "start_time": "2022-09-30T14:33:49.597Z"
   },
   {
    "duration": 16,
    "start_time": "2022-09-30T14:44:33.492Z"
   },
   {
    "duration": 33,
    "start_time": "2022-09-30T14:45:25.582Z"
   },
   {
    "duration": 114,
    "start_time": "2022-09-30T14:45:38.726Z"
   },
   {
    "duration": 314,
    "start_time": "2022-09-30T14:45:42.154Z"
   },
   {
    "duration": 5,
    "start_time": "2022-09-30T14:47:51.029Z"
   },
   {
    "duration": 276,
    "start_time": "2022-09-30T14:47:53.389Z"
   },
   {
    "duration": 342,
    "start_time": "2022-09-30T14:49:03.910Z"
   },
   {
    "duration": 334,
    "start_time": "2022-09-30T14:49:15.820Z"
   },
   {
    "duration": 101,
    "start_time": "2022-09-30T14:50:02.043Z"
   },
   {
    "duration": 220,
    "start_time": "2022-09-30T14:50:10.077Z"
   },
   {
    "duration": 241,
    "start_time": "2022-09-30T14:50:51.040Z"
   },
   {
    "duration": 210,
    "start_time": "2022-09-30T14:52:52.835Z"
   },
   {
    "duration": 411,
    "start_time": "2022-09-30T14:55:27.551Z"
   },
   {
    "duration": 52,
    "start_time": "2022-09-30T14:56:13.545Z"
   },
   {
    "duration": 419,
    "start_time": "2022-09-30T14:56:47.485Z"
   },
   {
    "duration": 340,
    "start_time": "2022-09-30T14:58:03.434Z"
   },
   {
    "duration": 106,
    "start_time": "2022-09-30T14:59:00.545Z"
   },
   {
    "duration": 225,
    "start_time": "2022-09-30T15:02:49.186Z"
   },
   {
    "duration": 224,
    "start_time": "2022-09-30T15:03:05.053Z"
   },
   {
    "duration": 18,
    "start_time": "2022-09-30T15:22:14.857Z"
   },
   {
    "duration": 235,
    "start_time": "2022-09-30T15:25:54.890Z"
   },
   {
    "duration": 61,
    "start_time": "2022-09-30T15:27:37.300Z"
   },
   {
    "duration": 8,
    "start_time": "2022-09-30T15:28:02.399Z"
   },
   {
    "duration": 4,
    "start_time": "2022-09-30T15:29:11.399Z"
   },
   {
    "duration": 66,
    "start_time": "2022-10-01T07:38:23.142Z"
   },
   {
    "duration": 2308,
    "start_time": "2022-10-01T07:46:43.108Z"
   },
   {
    "duration": 16,
    "start_time": "2022-10-01T07:46:45.418Z"
   },
   {
    "duration": 19,
    "start_time": "2022-10-01T07:46:45.436Z"
   },
   {
    "duration": 21,
    "start_time": "2022-10-01T07:46:45.463Z"
   },
   {
    "duration": 9,
    "start_time": "2022-10-01T07:46:45.485Z"
   },
   {
    "duration": 11,
    "start_time": "2022-10-01T07:46:45.495Z"
   },
   {
    "duration": 2636,
    "start_time": "2022-10-01T07:46:45.508Z"
   },
   {
    "duration": 26,
    "start_time": "2022-10-01T07:46:48.146Z"
   },
   {
    "duration": 36,
    "start_time": "2022-10-01T07:46:48.173Z"
   },
   {
    "duration": 44,
    "start_time": "2022-10-01T07:46:48.211Z"
   },
   {
    "duration": 168,
    "start_time": "2022-10-01T07:46:48.257Z"
   },
   {
    "duration": 377,
    "start_time": "2022-10-01T07:46:48.427Z"
   },
   {
    "duration": 5,
    "start_time": "2022-10-01T07:46:48.806Z"
   },
   {
    "duration": 306,
    "start_time": "2022-10-01T07:46:48.813Z"
   },
   {
    "duration": 330,
    "start_time": "2022-10-01T07:46:49.121Z"
   },
   {
    "duration": 102,
    "start_time": "2022-10-01T07:46:49.452Z"
   },
   {
    "duration": 278,
    "start_time": "2022-10-01T07:46:56.522Z"
   },
   {
    "duration": 181,
    "start_time": "2022-10-01T07:47:09.300Z"
   },
   {
    "duration": 249,
    "start_time": "2022-10-01T07:47:37.209Z"
   },
   {
    "duration": 261,
    "start_time": "2022-10-01T07:48:17.731Z"
   },
   {
    "duration": 321,
    "start_time": "2022-10-01T07:48:25.144Z"
   },
   {
    "duration": 413,
    "start_time": "2022-10-01T07:48:34.746Z"
   },
   {
    "duration": 242,
    "start_time": "2022-10-01T07:48:42.540Z"
   },
   {
    "duration": 227,
    "start_time": "2022-10-01T07:49:17.161Z"
   },
   {
    "duration": 192,
    "start_time": "2022-10-01T07:49:36.673Z"
   },
   {
    "duration": 333,
    "start_time": "2022-10-01T07:50:09.554Z"
   },
   {
    "duration": 1972,
    "start_time": "2022-10-01T07:52:57.043Z"
   },
   {
    "duration": 15,
    "start_time": "2022-10-01T07:52:59.017Z"
   },
   {
    "duration": 48,
    "start_time": "2022-10-01T07:52:59.034Z"
   },
   {
    "duration": 69,
    "start_time": "2022-10-01T07:52:59.084Z"
   },
   {
    "duration": 33,
    "start_time": "2022-10-01T07:52:59.154Z"
   },
   {
    "duration": 33,
    "start_time": "2022-10-01T07:52:59.188Z"
   },
   {
    "duration": 2503,
    "start_time": "2022-10-01T07:52:59.223Z"
   },
   {
    "duration": 34,
    "start_time": "2022-10-01T07:53:01.728Z"
   },
   {
    "duration": 37,
    "start_time": "2022-10-01T07:53:01.764Z"
   },
   {
    "duration": 33,
    "start_time": "2022-10-01T07:53:01.804Z"
   },
   {
    "duration": 124,
    "start_time": "2022-10-01T07:53:01.839Z"
   },
   {
    "duration": 317,
    "start_time": "2022-10-01T07:53:01.966Z"
   },
   {
    "duration": 16,
    "start_time": "2022-10-01T07:53:02.285Z"
   },
   {
    "duration": 288,
    "start_time": "2022-10-01T07:53:02.303Z"
   },
   {
    "duration": 320,
    "start_time": "2022-10-01T07:53:02.593Z"
   },
   {
    "duration": 107,
    "start_time": "2022-10-01T07:53:02.914Z"
   },
   {
    "duration": 248,
    "start_time": "2022-10-01T07:53:03.023Z"
   },
   {
    "duration": 207,
    "start_time": "2022-10-01T07:53:03.273Z"
   },
   {
    "duration": 350,
    "start_time": "2022-10-01T07:53:03.482Z"
   },
   {
    "duration": 111,
    "start_time": "2022-10-01T07:53:03.834Z"
   },
   {
    "duration": 4,
    "start_time": "2022-10-01T07:53:03.946Z"
   },
   {
    "duration": 235,
    "start_time": "2022-10-01T07:53:03.952Z"
   },
   {
    "duration": 262,
    "start_time": "2022-10-01T07:53:04.189Z"
   },
   {
    "duration": 8,
    "start_time": "2022-10-01T07:53:04.453Z"
   },
   {
    "duration": 5,
    "start_time": "2022-10-01T07:53:04.463Z"
   },
   {
    "duration": 8,
    "start_time": "2022-10-01T07:53:12.630Z"
   },
   {
    "duration": 81,
    "start_time": "2022-10-01T07:53:15.337Z"
   },
   {
    "duration": 6,
    "start_time": "2022-10-01T07:56:59.744Z"
   },
   {
    "duration": 6,
    "start_time": "2022-10-01T07:57:36.860Z"
   },
   {
    "duration": 10,
    "start_time": "2022-10-01T07:57:42.399Z"
   },
   {
    "duration": 10,
    "start_time": "2022-10-01T08:00:16.500Z"
   },
   {
    "duration": 9,
    "start_time": "2022-10-01T08:05:24.750Z"
   },
   {
    "duration": 99,
    "start_time": "2022-10-01T08:06:37.922Z"
   },
   {
    "duration": 12,
    "start_time": "2022-10-01T08:09:11.864Z"
   },
   {
    "duration": 190,
    "start_time": "2022-10-01T08:10:02.498Z"
   },
   {
    "duration": 12,
    "start_time": "2022-10-01T08:10:12.817Z"
   },
   {
    "duration": 12,
    "start_time": "2022-10-01T08:10:31.572Z"
   },
   {
    "duration": 104,
    "start_time": "2022-10-01T08:11:52.573Z"
   },
   {
    "duration": 13,
    "start_time": "2022-10-01T08:12:20.278Z"
   },
   {
    "duration": 12,
    "start_time": "2022-10-01T08:15:08.196Z"
   },
   {
    "duration": 12,
    "start_time": "2022-10-01T08:17:51.209Z"
   },
   {
    "duration": 2340,
    "start_time": "2022-10-02T08:14:50.181Z"
   },
   {
    "duration": 14,
    "start_time": "2022-10-02T08:14:52.523Z"
   },
   {
    "duration": 12,
    "start_time": "2022-10-02T08:14:52.538Z"
   },
   {
    "duration": 25,
    "start_time": "2022-10-02T08:14:52.552Z"
   },
   {
    "duration": 8,
    "start_time": "2022-10-02T08:14:52.578Z"
   },
   {
    "duration": 19,
    "start_time": "2022-10-02T08:14:52.587Z"
   },
   {
    "duration": 2600,
    "start_time": "2022-10-02T08:14:52.607Z"
   },
   {
    "duration": 24,
    "start_time": "2022-10-02T08:14:55.209Z"
   },
   {
    "duration": 9,
    "start_time": "2022-10-02T08:14:55.235Z"
   },
   {
    "duration": 47,
    "start_time": "2022-10-02T08:14:55.247Z"
   },
   {
    "duration": 128,
    "start_time": "2022-10-02T08:14:55.296Z"
   },
   {
    "duration": 291,
    "start_time": "2022-10-02T08:14:55.425Z"
   },
   {
    "duration": 7,
    "start_time": "2022-10-02T08:14:55.717Z"
   },
   {
    "duration": 263,
    "start_time": "2022-10-02T08:14:55.725Z"
   },
   {
    "duration": 403,
    "start_time": "2022-10-02T08:14:55.990Z"
   },
   {
    "duration": 91,
    "start_time": "2022-10-02T08:14:56.395Z"
   },
   {
    "duration": 225,
    "start_time": "2022-10-02T08:14:56.488Z"
   },
   {
    "duration": 190,
    "start_time": "2022-10-02T08:14:56.715Z"
   },
   {
    "duration": 350,
    "start_time": "2022-10-02T08:14:56.906Z"
   },
   {
    "duration": 110,
    "start_time": "2022-10-02T08:14:57.258Z"
   },
   {
    "duration": 3,
    "start_time": "2022-10-02T08:14:57.370Z"
   },
   {
    "duration": 213,
    "start_time": "2022-10-02T08:14:57.375Z"
   },
   {
    "duration": 210,
    "start_time": "2022-10-02T08:14:57.589Z"
   },
   {
    "duration": 8,
    "start_time": "2022-10-02T08:14:57.800Z"
   },
   {
    "duration": 5,
    "start_time": "2022-10-02T08:14:57.810Z"
   },
   {
    "duration": 6,
    "start_time": "2022-10-02T08:14:57.822Z"
   },
   {
    "duration": 75,
    "start_time": "2022-10-02T08:14:57.829Z"
   },
   {
    "duration": 4,
    "start_time": "2022-10-02T08:14:57.921Z"
   },
   {
    "duration": 7,
    "start_time": "2022-10-02T08:14:57.927Z"
   },
   {
    "duration": 11,
    "start_time": "2022-10-02T08:14:57.936Z"
   },
   {
    "duration": 7,
    "start_time": "2022-10-02T08:14:57.949Z"
   },
   {
    "duration": 10,
    "start_time": "2022-10-02T08:14:57.958Z"
   },
   {
    "duration": 10,
    "start_time": "2022-10-02T08:14:57.969Z"
   },
   {
    "duration": 4,
    "start_time": "2022-10-02T08:14:57.981Z"
   },
   {
    "duration": 2287,
    "start_time": "2022-10-02T10:56:35.518Z"
   },
   {
    "duration": 14,
    "start_time": "2022-10-02T10:56:37.807Z"
   },
   {
    "duration": 13,
    "start_time": "2022-10-02T10:56:37.823Z"
   },
   {
    "duration": 10,
    "start_time": "2022-10-02T10:56:37.838Z"
   },
   {
    "duration": 6,
    "start_time": "2022-10-02T10:56:37.849Z"
   },
   {
    "duration": 10,
    "start_time": "2022-10-02T10:56:37.856Z"
   },
   {
    "duration": 2564,
    "start_time": "2022-10-02T10:56:37.868Z"
   },
   {
    "duration": 5,
    "start_time": "2022-10-02T10:57:18.269Z"
   },
   {
    "duration": 26,
    "start_time": "2022-10-02T10:57:27.496Z"
   },
   {
    "duration": 26,
    "start_time": "2022-10-02T10:58:16.066Z"
   },
   {
    "duration": 26,
    "start_time": "2022-10-02T10:58:22.597Z"
   },
   {
    "duration": 28,
    "start_time": "2022-10-02T10:58:53.198Z"
   },
   {
    "duration": 26,
    "start_time": "2022-10-02T11:00:41.752Z"
   },
   {
    "duration": 26,
    "start_time": "2022-10-02T11:01:42.468Z"
   },
   {
    "duration": 36,
    "start_time": "2022-10-02T11:03:14.931Z"
   },
   {
    "duration": 25,
    "start_time": "2022-10-02T11:03:36.606Z"
   },
   {
    "duration": 34,
    "start_time": "2022-10-02T11:04:58.596Z"
   },
   {
    "duration": 71,
    "start_time": "2022-10-02T11:08:07.703Z"
   },
   {
    "duration": 91,
    "start_time": "2022-10-02T11:11:06.138Z"
   },
   {
    "duration": 6,
    "start_time": "2022-10-02T11:11:12.100Z"
   },
   {
    "duration": 7,
    "start_time": "2022-10-02T11:11:14.126Z"
   },
   {
    "duration": 10,
    "start_time": "2022-10-02T11:12:58.739Z"
   },
   {
    "duration": 10,
    "start_time": "2022-10-02T11:13:02.699Z"
   },
   {
    "duration": 11,
    "start_time": "2022-10-02T11:13:05.761Z"
   },
   {
    "duration": 137,
    "start_time": "2022-10-02T11:13:24.375Z"
   },
   {
    "duration": 8,
    "start_time": "2022-10-02T11:13:40.670Z"
   },
   {
    "duration": 8,
    "start_time": "2022-10-02T11:13:42.757Z"
   },
   {
    "duration": 2083,
    "start_time": "2022-10-02T11:13:53.776Z"
   },
   {
    "duration": 15,
    "start_time": "2022-10-02T11:13:55.861Z"
   },
   {
    "duration": 16,
    "start_time": "2022-10-02T11:13:55.878Z"
   },
   {
    "duration": 10,
    "start_time": "2022-10-02T11:13:55.896Z"
   },
   {
    "duration": 6,
    "start_time": "2022-10-02T11:13:55.908Z"
   },
   {
    "duration": 29,
    "start_time": "2022-10-02T11:13:55.915Z"
   },
   {
    "duration": 2914,
    "start_time": "2022-10-02T11:13:55.946Z"
   },
   {
    "duration": 26,
    "start_time": "2022-10-02T11:13:58.861Z"
   },
   {
    "duration": 51,
    "start_time": "2022-10-02T11:13:58.888Z"
   },
   {
    "duration": 35,
    "start_time": "2022-10-02T11:13:58.942Z"
   },
   {
    "duration": 123,
    "start_time": "2022-10-02T11:13:58.979Z"
   },
   {
    "duration": 300,
    "start_time": "2022-10-02T11:13:59.104Z"
   },
   {
    "duration": 4,
    "start_time": "2022-10-02T11:13:59.406Z"
   },
   {
    "duration": 279,
    "start_time": "2022-10-02T11:13:59.412Z"
   },
   {
    "duration": 305,
    "start_time": "2022-10-02T11:13:59.693Z"
   },
   {
    "duration": 112,
    "start_time": "2022-10-02T11:14:00.000Z"
   },
   {
    "duration": 237,
    "start_time": "2022-10-02T11:14:00.113Z"
   },
   {
    "duration": 196,
    "start_time": "2022-10-02T11:14:00.351Z"
   },
   {
    "duration": 332,
    "start_time": "2022-10-02T11:14:00.549Z"
   },
   {
    "duration": 114,
    "start_time": "2022-10-02T11:14:00.883Z"
   },
   {
    "duration": 4,
    "start_time": "2022-10-02T11:14:00.998Z"
   },
   {
    "duration": 246,
    "start_time": "2022-10-02T11:14:01.003Z"
   },
   {
    "duration": 229,
    "start_time": "2022-10-02T11:14:01.250Z"
   },
   {
    "duration": 8,
    "start_time": "2022-10-02T11:14:01.481Z"
   },
   {
    "duration": 7,
    "start_time": "2022-10-02T11:14:01.491Z"
   },
   {
    "duration": 13,
    "start_time": "2022-10-02T11:14:01.500Z"
   },
   {
    "duration": 88,
    "start_time": "2022-10-02T11:14:01.515Z"
   },
   {
    "duration": 21,
    "start_time": "2022-10-02T11:14:01.607Z"
   },
   {
    "duration": 30,
    "start_time": "2022-10-02T11:14:01.629Z"
   },
   {
    "duration": 11,
    "start_time": "2022-10-02T11:14:08.961Z"
   },
   {
    "duration": 92,
    "start_time": "2022-10-02T11:14:36.711Z"
   },
   {
    "duration": 9,
    "start_time": "2022-10-02T11:14:47.959Z"
   },
   {
    "duration": 13,
    "start_time": "2022-10-02T11:15:07.688Z"
   },
   {
    "duration": 8,
    "start_time": "2022-10-02T11:15:37.498Z"
   },
   {
    "duration": 26,
    "start_time": "2022-10-02T11:17:21.846Z"
   },
   {
    "duration": 2047,
    "start_time": "2022-10-02T11:17:48.347Z"
   },
   {
    "duration": 14,
    "start_time": "2022-10-02T11:17:50.396Z"
   },
   {
    "duration": 17,
    "start_time": "2022-10-02T11:17:50.412Z"
   },
   {
    "duration": 14,
    "start_time": "2022-10-02T11:17:50.432Z"
   },
   {
    "duration": 11,
    "start_time": "2022-10-02T11:17:50.448Z"
   },
   {
    "duration": 12,
    "start_time": "2022-10-02T11:17:50.460Z"
   },
   {
    "duration": 2341,
    "start_time": "2022-10-02T11:17:50.474Z"
   },
   {
    "duration": 28,
    "start_time": "2022-10-02T11:17:52.817Z"
   },
   {
    "duration": 14,
    "start_time": "2022-10-02T11:17:52.847Z"
   },
   {
    "duration": 38,
    "start_time": "2022-10-02T11:17:52.865Z"
   },
   {
    "duration": 150,
    "start_time": "2022-10-02T11:17:52.905Z"
   },
   {
    "duration": 361,
    "start_time": "2022-10-02T11:17:53.057Z"
   },
   {
    "duration": 7,
    "start_time": "2022-10-02T11:17:53.420Z"
   },
   {
    "duration": 327,
    "start_time": "2022-10-02T11:17:53.429Z"
   },
   {
    "duration": 325,
    "start_time": "2022-10-02T11:17:53.758Z"
   },
   {
    "duration": 134,
    "start_time": "2022-10-02T11:17:54.085Z"
   },
   {
    "duration": 301,
    "start_time": "2022-10-02T11:17:54.221Z"
   },
   {
    "duration": 229,
    "start_time": "2022-10-02T11:17:54.524Z"
   },
   {
    "duration": 551,
    "start_time": "2022-10-02T11:17:54.755Z"
   },
   {
    "duration": 163,
    "start_time": "2022-10-02T11:17:55.309Z"
   },
   {
    "duration": 4,
    "start_time": "2022-10-02T11:17:55.473Z"
   },
   {
    "duration": 262,
    "start_time": "2022-10-02T11:17:55.479Z"
   },
   {
    "duration": 266,
    "start_time": "2022-10-02T11:17:55.743Z"
   },
   {
    "duration": 9,
    "start_time": "2022-10-02T11:17:56.011Z"
   },
   {
    "duration": 4,
    "start_time": "2022-10-02T11:17:56.037Z"
   },
   {
    "duration": 20,
    "start_time": "2022-10-02T11:17:56.043Z"
   },
   {
    "duration": 89,
    "start_time": "2022-10-02T11:17:56.065Z"
   },
   {
    "duration": 6,
    "start_time": "2022-10-02T11:17:56.158Z"
   },
   {
    "duration": 11,
    "start_time": "2022-10-02T11:17:56.166Z"
   },
   {
    "duration": 12,
    "start_time": "2022-10-02T11:17:56.179Z"
   },
   {
    "duration": 46,
    "start_time": "2022-10-02T11:17:56.193Z"
   },
   {
    "duration": 20,
    "start_time": "2022-10-02T11:17:59.172Z"
   },
   {
    "duration": 13,
    "start_time": "2022-10-02T11:18:40.703Z"
   },
   {
    "duration": 2188,
    "start_time": "2022-10-02T11:19:51.275Z"
   },
   {
    "duration": 20,
    "start_time": "2022-10-02T11:19:53.465Z"
   },
   {
    "duration": 20,
    "start_time": "2022-10-02T11:19:53.487Z"
   },
   {
    "duration": 43,
    "start_time": "2022-10-02T11:19:53.510Z"
   },
   {
    "duration": 14,
    "start_time": "2022-10-02T11:19:53.555Z"
   },
   {
    "duration": 11,
    "start_time": "2022-10-02T11:19:53.571Z"
   },
   {
    "duration": 2256,
    "start_time": "2022-10-02T11:19:53.584Z"
   },
   {
    "duration": 27,
    "start_time": "2022-10-02T11:19:55.842Z"
   },
   {
    "duration": 11,
    "start_time": "2022-10-02T11:19:55.870Z"
   },
   {
    "duration": 85,
    "start_time": "2022-10-02T11:19:55.885Z"
   },
   {
    "duration": 129,
    "start_time": "2022-10-02T11:19:55.972Z"
   },
   {
    "duration": 348,
    "start_time": "2022-10-02T11:19:56.102Z"
   },
   {
    "duration": 5,
    "start_time": "2022-10-02T11:19:56.452Z"
   },
   {
    "duration": 333,
    "start_time": "2022-10-02T11:19:56.458Z"
   },
   {
    "duration": 329,
    "start_time": "2022-10-02T11:19:56.793Z"
   },
   {
    "duration": 106,
    "start_time": "2022-10-02T11:19:57.124Z"
   },
   {
    "duration": 278,
    "start_time": "2022-10-02T11:19:57.238Z"
   },
   {
    "duration": 202,
    "start_time": "2022-10-02T11:19:57.517Z"
   },
   {
    "duration": 340,
    "start_time": "2022-10-02T11:19:57.721Z"
   },
   {
    "duration": 123,
    "start_time": "2022-10-02T11:19:58.062Z"
   },
   {
    "duration": 4,
    "start_time": "2022-10-02T11:19:58.186Z"
   },
   {
    "duration": 247,
    "start_time": "2022-10-02T11:19:58.191Z"
   },
   {
    "duration": 267,
    "start_time": "2022-10-02T11:19:58.440Z"
   },
   {
    "duration": 10,
    "start_time": "2022-10-02T11:19:58.709Z"
   },
   {
    "duration": 21,
    "start_time": "2022-10-02T11:19:58.721Z"
   },
   {
    "duration": 11,
    "start_time": "2022-10-02T11:19:58.744Z"
   },
   {
    "duration": 91,
    "start_time": "2022-10-02T11:19:58.757Z"
   },
   {
    "duration": 5,
    "start_time": "2022-10-02T11:19:58.851Z"
   },
   {
    "duration": 9,
    "start_time": "2022-10-02T11:19:58.858Z"
   },
   {
    "duration": 12,
    "start_time": "2022-10-02T11:19:58.868Z"
   },
   {
    "duration": 9,
    "start_time": "2022-10-02T11:19:58.881Z"
   },
   {
    "duration": 14,
    "start_time": "2022-10-02T11:19:58.891Z"
   },
   {
    "duration": 40,
    "start_time": "2022-10-02T11:19:58.907Z"
   },
   {
    "duration": 7,
    "start_time": "2022-10-02T11:19:58.949Z"
   }
  ],
  "kernelspec": {
   "display_name": "Python 3 (ipykernel)",
   "language": "python",
   "name": "python3"
  },
  "language_info": {
   "codemirror_mode": {
    "name": "ipython",
    "version": 3
   },
   "file_extension": ".py",
   "mimetype": "text/x-python",
   "name": "python",
   "nbconvert_exporter": "python",
   "pygments_lexer": "ipython3",
   "version": "3.9.7"
  },
  "toc": {
   "base_numbering": 1,
   "nav_menu": {},
   "number_sections": true,
   "sideBar": true,
   "skip_h1_title": true,
   "title_cell": "Table of Contents",
   "title_sidebar": "Contents",
   "toc_cell": false,
   "toc_position": {},
   "toc_section_display": true,
   "toc_window_display": false
  }
 },
 "nbformat": 4,
 "nbformat_minor": 5
}
